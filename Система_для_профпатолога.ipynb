{
  "nbformat": 4,
  "nbformat_minor": 0,
  "metadata": {
    "colab": {
      "provenance": [],
      "toc_visible": true,
      "authorship_tag": "ABX9TyMrNBXpWjqwizX5M+uQ29/0",
      "include_colab_link": true
    },
    "kernelspec": {
      "name": "python3",
      "display_name": "Python 3"
    },
    "language_info": {
      "name": "python"
    }
  },
  "cells": [
    {
      "cell_type": "markdown",
      "metadata": {
        "id": "view-in-github",
        "colab_type": "text"
      },
      "source": [
        "<a href=\"https://colab.research.google.com/github/Untick/InspectrumClinic_RecSys/blob/Oksana_A_Dubrovina-folder/%D0%A1%D0%B8%D1%81%D1%82%D0%B5%D0%BC%D0%B0_%D0%B4%D0%BB%D1%8F_%D0%BF%D1%80%D0%BE%D1%84%D0%BF%D0%B0%D1%82%D0%BE%D0%BB%D0%BE%D0%B3%D0%B0.ipynb\" target=\"_parent\"><img src=\"https://colab.research.google.com/assets/colab-badge.svg\" alt=\"Open In Colab\"/></a>"
      ]
    },
    {
      "cell_type": "markdown",
      "source": [
        "#Импорт необходимых библиотек"
      ],
      "metadata": {
        "id": "M4xKOPOatyh5"
      }
    },
    {
      "cell_type": "code",
      "execution_count": 115,
      "metadata": {
        "id": "AiAqx9Q1tqVY"
      },
      "outputs": [],
      "source": [
        "import numpy as np \n",
        "import pandas as pd \n",
        "from tensorflow.keras.models import Sequential, Model \n",
        "from tensorflow.keras.layers import concatenate, Input, Dense, Dropout, BatchNormalization, Flatten \n",
        "from tensorflow.keras import utils \n",
        "from tensorflow.keras.optimizers import Adam,Adadelta,SGD,Adagrad,RMSprop \n",
        "from tensorflow.keras.preprocessing.text import Tokenizer, text_to_word_sequence, tokenizer_from_json \n",
        "from tensorflow.keras.preprocessing.sequence import pad_sequences \n",
        "from tensorflow.keras.callbacks import LambdaCallback \n",
        "from sklearn.preprocessing import StandardScaler  \n",
        "from sklearn.model_selection import train_test_split \n",
        "from sklearn.metrics import mean_squared_error, mean_absolute_error \n",
        "from sklearn.metrics import confusion_matrix, ConfusionMatrixDisplay  \n",
        "from sklearn.cluster import KMeans\n",
        "import random \n",
        "import math \n",
        "import re \n",
        "import matplotlib.pyplot as plt \n",
        "%matplotlib inline\n",
        "from IPython.display import clear_output\n",
        " "
      ]
    },
    {
      "cell_type": "markdown",
      "source": [
        "#Загрузка данных, проверка содержимого"
      ],
      "metadata": {
        "id": "CUBRtUw3upVO"
      }
    },
    {
      "cell_type": "code",
      "source": [
        "from google.colab import drive\n",
        "drive.mount('/content/drive')"
      ],
      "metadata": {
        "colab": {
          "base_uri": "https://localhost:8080/"
        },
        "id": "lUShgsSRxTf2",
        "outputId": "7b18a0b7-7d4a-44db-aa32-237634d6e5da"
      },
      "execution_count": 2,
      "outputs": [
        {
          "output_type": "stream",
          "name": "stdout",
          "text": [
            "Mounted at /content/drive\n"
          ]
        }
      ]
    },
    {
      "cell_type": "code",
      "source": [
        "filename_1 = '/content/drive/MyDrive/Profpatolog/dataset_profpatolog_1.csv'\n",
        "filename_2 = '/content/drive/MyDrive/Profpatolog/dataset_profpatolog_2.csv'"
      ],
      "metadata": {
        "id": "nC7pKKFPzKqI"
      },
      "execution_count": 3,
      "outputs": []
    },
    {
      "cell_type": "code",
      "source": [
        "df = pd.read_csv(filename_1)"
      ],
      "metadata": {
        "id": "OwbxZ87ztHHc"
      },
      "execution_count": 4,
      "outputs": []
    },
    {
      "cell_type": "code",
      "source": [
        "print(df.shape)"
      ],
      "metadata": {
        "colab": {
          "base_uri": "https://localhost:8080/"
        },
        "id": "BOqxWpILyfeC",
        "outputId": "5de5fcf1-dcde-4971-c4c4-866a8e329ea8"
      },
      "execution_count": 118,
      "outputs": [
        {
          "output_type": "stream",
          "name": "stdout",
          "text": [
            "(112, 710)\n"
          ]
        }
      ]
    },
    {
      "cell_type": "code",
      "source": [
        "df.count()"
      ],
      "metadata": {
        "colab": {
          "base_uri": "https://localhost:8080/"
        },
        "id": "MHQXoGkSzdI0",
        "outputId": "a101f7ed-5337-4fd5-fa08-1a9ff9853bda"
      },
      "execution_count": 6,
      "outputs": [
        {
          "output_type": "execute_result",
          "data": {
            "text/plain": [
              "ДокументПрохождениеМедосмотра                             112\n",
              "Клиент                                                    110\n",
              "КлиентДатаРождения                                        110\n",
              "КлиентПол                                                 110\n",
              "КлиентПолПредставление                                    110\n",
              "                                                         ... \n",
              "Стоматология1_Противопоказание2                             2\n",
              "Стоматология1_ПротивопоказаниеПредставление2                0\n",
              "Стоматология1_Профессиональное2                             2\n",
              "Стоматология1_ПрофнепригодностьВременная2                   0\n",
              "Стоматология1_ПрофнепригодностьВременнаяПредставление2      0\n",
              "Length: 710, dtype: int64"
            ]
          },
          "metadata": {},
          "execution_count": 6
        }
      ]
    },
    {
      "cell_type": "code",
      "source": [
        "df.info()"
      ],
      "metadata": {
        "colab": {
          "base_uri": "https://localhost:8080/"
        },
        "id": "0MUVOIO1zcyW",
        "outputId": "0ba11c20-d642-42dd-dd1b-19d4a9ec6a6b"
      },
      "execution_count": 7,
      "outputs": [
        {
          "output_type": "stream",
          "name": "stdout",
          "text": [
            "<class 'pandas.core.frame.DataFrame'>\n",
            "RangeIndex: 112 entries, 0 to 111\n",
            "Columns: 710 entries, ДокументПрохождениеМедосмотра to Стоматология1_ПрофнепригодностьВременнаяПредставление2\n",
            "dtypes: float64(267), object(443)\n",
            "memory usage: 621.4+ KB\n"
          ]
        }
      ]
    },
    {
      "cell_type": "markdown",
      "source": [
        "#Работа с данными в таблице"
      ],
      "metadata": {
        "id": "KwtMoPeEpddr"
      }
    },
    {
      "cell_type": "code",
      "source": [
        "df1 = df.dropna(axis=0, how='all')\n",
        "df2 = df1.dropna(axis=1, how='all')"
      ],
      "metadata": {
        "id": "RzlSM_U50eqn"
      },
      "execution_count": 8,
      "outputs": []
    },
    {
      "cell_type": "code",
      "source": [
        "print(df2.shape)"
      ],
      "metadata": {
        "colab": {
          "base_uri": "https://localhost:8080/"
        },
        "id": "ItI40Iru13O7",
        "outputId": "52a12003-8425-4436-8e78-47d4ae5b3124"
      },
      "execution_count": 9,
      "outputs": [
        {
          "output_type": "stream",
          "name": "stdout",
          "text": [
            "(112, 470)\n"
          ]
        }
      ]
    },
    {
      "cell_type": "code",
      "source": [
        "colms = df2.columns.values.tolist()"
      ],
      "metadata": {
        "id": "3DJ3s83K2xrl"
      },
      "execution_count": 10,
      "outputs": []
    },
    {
      "cell_type": "code",
      "source": [
        "colms[3]"
      ],
      "metadata": {
        "colab": {
          "base_uri": "https://localhost:8080/",
          "height": 36
        },
        "id": "byIL5D6HeAKb",
        "outputId": "69c80373-92bc-42c5-fc43-d51bade78076"
      },
      "execution_count": 11,
      "outputs": [
        {
          "output_type": "execute_result",
          "data": {
            "text/plain": [
              "'КлиентПол'"
            ],
            "application/vnd.google.colaboratory.intrinsic+json": {
              "type": "string"
            }
          },
          "metadata": {},
          "execution_count": 11
        }
      ]
    },
    {
      "cell_type": "code",
      "source": [
        "df2[colms[3]].unique()"
      ],
      "metadata": {
        "colab": {
          "base_uri": "https://localhost:8080/"
        },
        "id": "Dy2aSBHCeDgf",
        "outputId": "d0e7f09d-2da4-4865-8460-3a76b2f34758"
      },
      "execution_count": 12,
      "outputs": [
        {
          "output_type": "execute_result",
          "data": {
            "text/plain": [
              "array(['Женский', 'Мужской', nan], dtype=object)"
            ]
          },
          "metadata": {},
          "execution_count": 12
        }
      ]
    },
    {
      "cell_type": "code",
      "source": [
        "df2[colms[3]].nunique()"
      ],
      "metadata": {
        "colab": {
          "base_uri": "https://localhost:8080/"
        },
        "id": "mFIsO48EeVcm",
        "outputId": "d3b9ba3c-5cbb-4f1d-ffc8-ef0540219239"
      },
      "execution_count": 13,
      "outputs": [
        {
          "output_type": "execute_result",
          "data": {
            "text/plain": [
              "2"
            ]
          },
          "metadata": {},
          "execution_count": 13
        }
      ]
    },
    {
      "cell_type": "code",
      "source": [
        "print(df2.iloc[33])"
      ],
      "metadata": {
        "colab": {
          "base_uri": "https://localhost:8080/"
        },
        "id": "fqylM0sJrquW",
        "outputId": "0cf27cde-f250-47e3-c174-8edb03323d3e"
      },
      "execution_count": 14,
      "outputs": [
        {
          "output_type": "stream",
          "name": "stdout",
          "text": [
            "ДокументПрохождениеМедосмотра                                    назначено лечение.\"\n",
            "Клиент                                                                           NaN\n",
            "КлиентДатаРождения                                                               NaN\n",
            "КлиентПол                                                                        NaN\n",
            "КлиентПолПредставление                                                           NaN\n",
            "                                                                        ...         \n",
            "Оториноларингология2_ПрофнепригодностьВременнаяПредставление1                    NaN\n",
            "Стоматология1_МКБ102                                                             NaN\n",
            "Стоматология1_ДиагнозПредставление2                                              NaN\n",
            "Стоматология1_Противопоказание2                                                  NaN\n",
            "Стоматология1_Профессиональное2                                                  NaN\n",
            "Name: 33, Length: 470, dtype: object\n"
          ]
        }
      ]
    },
    {
      "cell_type": "code",
      "source": [
        "print(df2.iloc[60])"
      ],
      "metadata": {
        "colab": {
          "base_uri": "https://localhost:8080/"
        },
        "id": "sNnXROa0rqdz",
        "outputId": "edb9c588-405a-4c0b-fce3-03e70d9017f3"
      },
      "execution_count": 15,
      "outputs": [
        {
          "output_type": "stream",
          "name": "stdout",
          "text": [
            "ДокументПрохождениеМедосмотра                                    конс сурдолога к след мед осмотру.\"\n",
            "Клиент                                                                                           NaN\n",
            "КлиентДатаРождения                                                                               NaN\n",
            "КлиентПол                                                                                        NaN\n",
            "КлиентПолПредставление                                                                           NaN\n",
            "                                                                                ...                 \n",
            "Оториноларингология2_ПрофнепригодностьВременнаяПредставление1                                    NaN\n",
            "Стоматология1_МКБ102                                                                             NaN\n",
            "Стоматология1_ДиагнозПредставление2                                                              NaN\n",
            "Стоматология1_Противопоказание2                                                                  NaN\n",
            "Стоматология1_Профессиональное2                                                                  NaN\n",
            "Name: 60, Length: 470, dtype: object\n"
          ]
        }
      ]
    },
    {
      "cell_type": "code",
      "source": [
        "df3 = df2.drop (index=[ 33, 60, 102, 103, 104, 105, 106, 107, 108, 109, 110, 111])"
      ],
      "metadata": {
        "id": "BriTclCwq_xX"
      },
      "execution_count": 16,
      "outputs": []
    },
    {
      "cell_type": "code",
      "source": [
        "print(df3.shape)"
      ],
      "metadata": {
        "colab": {
          "base_uri": "https://localhost:8080/"
        },
        "id": "W9GXyRfvt7ql",
        "outputId": "f831ed1f-6e80-43b9-d55a-782a2d211374"
      },
      "execution_count": 18,
      "outputs": [
        {
          "output_type": "stream",
          "name": "stdout",
          "text": [
            "(100, 470)\n"
          ]
        }
      ]
    },
    {
      "cell_type": "code",
      "source": [
        "data = []\n",
        "for col in colms:\n",
        "    tp = df3[col].dtypes\n",
        "    q = df3[col].unique()\n",
        "    nq = df3[col].nunique()\n",
        "    data.append([col, tp, nq, q])"
      ],
      "metadata": {
        "id": "Do7wOJFbiv0D"
      },
      "execution_count": 19,
      "outputs": []
    },
    {
      "cell_type": "code",
      "source": [
        "df_col = pd.DataFrame(data, columns=['Название', 'Тип', 'Кол-во уник.знач.', 'Уник.значения'])"
      ],
      "metadata": {
        "id": "t2P62wtsjRoX"
      },
      "execution_count": 20,
      "outputs": []
    },
    {
      "cell_type": "code",
      "source": [
        "df_col[0:17]"
      ],
      "metadata": {
        "colab": {
          "base_uri": "https://localhost:8080/",
          "height": 582
        },
        "id": "qoGr5YPAj9_z",
        "outputId": "e79540f2-206a-480f-bdd0-60fe02d7283e"
      },
      "execution_count": 21,
      "outputs": [
        {
          "output_type": "execute_result",
          "data": {
            "text/plain": [
              "                           Название      Тип  Кол-во уник.знач.  \\\n",
              "0     ДокументПрохождениеМедосмотра   object                100   \n",
              "1                            Клиент   object                100   \n",
              "2                КлиентДатаРождения   object                 99   \n",
              "3                         КлиентПол   object                  2   \n",
              "4            КлиентПолПредставление   object                  2   \n",
              "5          ДатаЗавершенияМедосмотра   object                 24   \n",
              "6                     ТипМедосмотра   object                  1   \n",
              "7        ТипМедосмотраПредставление   object                  1   \n",
              "8           ПсихОсвидетельствование  float64                  2   \n",
              "9                        Контрагент   object                 13   \n",
              "10                              Цех   object                  6   \n",
              "11                        Профессия   object                 57   \n",
              "12                     ЗаключениеМК   object                  5   \n",
              "13        ЗаключениеМКПредставление   object                  5   \n",
              "14                       Заключение   object                  7   \n",
              "15               ДиспансернаяГруппа   object                  4   \n",
              "16  ДиспансернаяГруппаПредставление   object                  4   \n",
              "\n",
              "                                        Уник.значения  \n",
              "0   [9688ac7c-dd74-11ec-8100-0cc47aab8067, df26abd...  \n",
              "1   [11ba74dd-5503-11e8-80ce-0cc47aab8067, 11ba74d...  \n",
              "2   [1972-03-05, 1988-09-16, 2002-05-26, 1968-03-1...  \n",
              "3                                  [Женский, Мужской]  \n",
              "4                                  [Женский, Мужской]  \n",
              "5   [2022-05-27, 2022-05-30, 2022-05-31, 2022-06-0...  \n",
              "6                                     [Периодический]  \n",
              "7                                     [Периодический]  \n",
              "8                                          [0.0, 1.0]  \n",
              "9   [a1e92db1-2ea1-11e9-80ce-0cc47aab8067, e8b7052...  \n",
              "10  [nan, Без отдела, Отдел технических решений и ...  \n",
              "11  [Мойщик ВС 2 разряда, Кладовщик-комплектовщик,...  \n",
              "12  [ГоденСКоррекциейЗрения, Годен, ГоденБезРаботН...  \n",
              "13  [Годен к работе в указанных условиях (с коррек...  \n",
              "14  [Годен к работе в указанных условиях (с коррек...  \n",
              "15                                [II, I, IIIа, IIIб]  \n",
              "16                                [II, I, IIIа, IIIб]  "
            ],
            "text/html": [
              "\n",
              "  <div id=\"df-4a2d2ebd-351b-44f9-9123-e4705457a5a8\">\n",
              "    <div class=\"colab-df-container\">\n",
              "      <div>\n",
              "<style scoped>\n",
              "    .dataframe tbody tr th:only-of-type {\n",
              "        vertical-align: middle;\n",
              "    }\n",
              "\n",
              "    .dataframe tbody tr th {\n",
              "        vertical-align: top;\n",
              "    }\n",
              "\n",
              "    .dataframe thead th {\n",
              "        text-align: right;\n",
              "    }\n",
              "</style>\n",
              "<table border=\"1\" class=\"dataframe\">\n",
              "  <thead>\n",
              "    <tr style=\"text-align: right;\">\n",
              "      <th></th>\n",
              "      <th>Название</th>\n",
              "      <th>Тип</th>\n",
              "      <th>Кол-во уник.знач.</th>\n",
              "      <th>Уник.значения</th>\n",
              "    </tr>\n",
              "  </thead>\n",
              "  <tbody>\n",
              "    <tr>\n",
              "      <th>0</th>\n",
              "      <td>ДокументПрохождениеМедосмотра</td>\n",
              "      <td>object</td>\n",
              "      <td>100</td>\n",
              "      <td>[9688ac7c-dd74-11ec-8100-0cc47aab8067, df26abd...</td>\n",
              "    </tr>\n",
              "    <tr>\n",
              "      <th>1</th>\n",
              "      <td>Клиент</td>\n",
              "      <td>object</td>\n",
              "      <td>100</td>\n",
              "      <td>[11ba74dd-5503-11e8-80ce-0cc47aab8067, 11ba74d...</td>\n",
              "    </tr>\n",
              "    <tr>\n",
              "      <th>2</th>\n",
              "      <td>КлиентДатаРождения</td>\n",
              "      <td>object</td>\n",
              "      <td>99</td>\n",
              "      <td>[1972-03-05, 1988-09-16, 2002-05-26, 1968-03-1...</td>\n",
              "    </tr>\n",
              "    <tr>\n",
              "      <th>3</th>\n",
              "      <td>КлиентПол</td>\n",
              "      <td>object</td>\n",
              "      <td>2</td>\n",
              "      <td>[Женский, Мужской]</td>\n",
              "    </tr>\n",
              "    <tr>\n",
              "      <th>4</th>\n",
              "      <td>КлиентПолПредставление</td>\n",
              "      <td>object</td>\n",
              "      <td>2</td>\n",
              "      <td>[Женский, Мужской]</td>\n",
              "    </tr>\n",
              "    <tr>\n",
              "      <th>5</th>\n",
              "      <td>ДатаЗавершенияМедосмотра</td>\n",
              "      <td>object</td>\n",
              "      <td>24</td>\n",
              "      <td>[2022-05-27, 2022-05-30, 2022-05-31, 2022-06-0...</td>\n",
              "    </tr>\n",
              "    <tr>\n",
              "      <th>6</th>\n",
              "      <td>ТипМедосмотра</td>\n",
              "      <td>object</td>\n",
              "      <td>1</td>\n",
              "      <td>[Периодический]</td>\n",
              "    </tr>\n",
              "    <tr>\n",
              "      <th>7</th>\n",
              "      <td>ТипМедосмотраПредставление</td>\n",
              "      <td>object</td>\n",
              "      <td>1</td>\n",
              "      <td>[Периодический]</td>\n",
              "    </tr>\n",
              "    <tr>\n",
              "      <th>8</th>\n",
              "      <td>ПсихОсвидетельствование</td>\n",
              "      <td>float64</td>\n",
              "      <td>2</td>\n",
              "      <td>[0.0, 1.0]</td>\n",
              "    </tr>\n",
              "    <tr>\n",
              "      <th>9</th>\n",
              "      <td>Контрагент</td>\n",
              "      <td>object</td>\n",
              "      <td>13</td>\n",
              "      <td>[a1e92db1-2ea1-11e9-80ce-0cc47aab8067, e8b7052...</td>\n",
              "    </tr>\n",
              "    <tr>\n",
              "      <th>10</th>\n",
              "      <td>Цех</td>\n",
              "      <td>object</td>\n",
              "      <td>6</td>\n",
              "      <td>[nan, Без отдела, Отдел технических решений и ...</td>\n",
              "    </tr>\n",
              "    <tr>\n",
              "      <th>11</th>\n",
              "      <td>Профессия</td>\n",
              "      <td>object</td>\n",
              "      <td>57</td>\n",
              "      <td>[Мойщик ВС 2 разряда, Кладовщик-комплектовщик,...</td>\n",
              "    </tr>\n",
              "    <tr>\n",
              "      <th>12</th>\n",
              "      <td>ЗаключениеМК</td>\n",
              "      <td>object</td>\n",
              "      <td>5</td>\n",
              "      <td>[ГоденСКоррекциейЗрения, Годен, ГоденБезРаботН...</td>\n",
              "    </tr>\n",
              "    <tr>\n",
              "      <th>13</th>\n",
              "      <td>ЗаключениеМКПредставление</td>\n",
              "      <td>object</td>\n",
              "      <td>5</td>\n",
              "      <td>[Годен к работе в указанных условиях (с коррек...</td>\n",
              "    </tr>\n",
              "    <tr>\n",
              "      <th>14</th>\n",
              "      <td>Заключение</td>\n",
              "      <td>object</td>\n",
              "      <td>7</td>\n",
              "      <td>[Годен к работе в указанных условиях (с коррек...</td>\n",
              "    </tr>\n",
              "    <tr>\n",
              "      <th>15</th>\n",
              "      <td>ДиспансернаяГруппа</td>\n",
              "      <td>object</td>\n",
              "      <td>4</td>\n",
              "      <td>[II, I, IIIа, IIIб]</td>\n",
              "    </tr>\n",
              "    <tr>\n",
              "      <th>16</th>\n",
              "      <td>ДиспансернаяГруппаПредставление</td>\n",
              "      <td>object</td>\n",
              "      <td>4</td>\n",
              "      <td>[II, I, IIIа, IIIб]</td>\n",
              "    </tr>\n",
              "  </tbody>\n",
              "</table>\n",
              "</div>\n",
              "      <button class=\"colab-df-convert\" onclick=\"convertToInteractive('df-4a2d2ebd-351b-44f9-9123-e4705457a5a8')\"\n",
              "              title=\"Convert this dataframe to an interactive table.\"\n",
              "              style=\"display:none;\">\n",
              "        \n",
              "  <svg xmlns=\"http://www.w3.org/2000/svg\" height=\"24px\"viewBox=\"0 0 24 24\"\n",
              "       width=\"24px\">\n",
              "    <path d=\"M0 0h24v24H0V0z\" fill=\"none\"/>\n",
              "    <path d=\"M18.56 5.44l.94 2.06.94-2.06 2.06-.94-2.06-.94-.94-2.06-.94 2.06-2.06.94zm-11 1L8.5 8.5l.94-2.06 2.06-.94-2.06-.94L8.5 2.5l-.94 2.06-2.06.94zm10 10l.94 2.06.94-2.06 2.06-.94-2.06-.94-.94-2.06-.94 2.06-2.06.94z\"/><path d=\"M17.41 7.96l-1.37-1.37c-.4-.4-.92-.59-1.43-.59-.52 0-1.04.2-1.43.59L10.3 9.45l-7.72 7.72c-.78.78-.78 2.05 0 2.83L4 21.41c.39.39.9.59 1.41.59.51 0 1.02-.2 1.41-.59l7.78-7.78 2.81-2.81c.8-.78.8-2.07 0-2.86zM5.41 20L4 18.59l7.72-7.72 1.47 1.35L5.41 20z\"/>\n",
              "  </svg>\n",
              "      </button>\n",
              "      \n",
              "  <style>\n",
              "    .colab-df-container {\n",
              "      display:flex;\n",
              "      flex-wrap:wrap;\n",
              "      gap: 12px;\n",
              "    }\n",
              "\n",
              "    .colab-df-convert {\n",
              "      background-color: #E8F0FE;\n",
              "      border: none;\n",
              "      border-radius: 50%;\n",
              "      cursor: pointer;\n",
              "      display: none;\n",
              "      fill: #1967D2;\n",
              "      height: 32px;\n",
              "      padding: 0 0 0 0;\n",
              "      width: 32px;\n",
              "    }\n",
              "\n",
              "    .colab-df-convert:hover {\n",
              "      background-color: #E2EBFA;\n",
              "      box-shadow: 0px 1px 2px rgba(60, 64, 67, 0.3), 0px 1px 3px 1px rgba(60, 64, 67, 0.15);\n",
              "      fill: #174EA6;\n",
              "    }\n",
              "\n",
              "    [theme=dark] .colab-df-convert {\n",
              "      background-color: #3B4455;\n",
              "      fill: #D2E3FC;\n",
              "    }\n",
              "\n",
              "    [theme=dark] .colab-df-convert:hover {\n",
              "      background-color: #434B5C;\n",
              "      box-shadow: 0px 1px 3px 1px rgba(0, 0, 0, 0.15);\n",
              "      filter: drop-shadow(0px 1px 2px rgba(0, 0, 0, 0.3));\n",
              "      fill: #FFFFFF;\n",
              "    }\n",
              "  </style>\n",
              "\n",
              "      <script>\n",
              "        const buttonEl =\n",
              "          document.querySelector('#df-4a2d2ebd-351b-44f9-9123-e4705457a5a8 button.colab-df-convert');\n",
              "        buttonEl.style.display =\n",
              "          google.colab.kernel.accessAllowed ? 'block' : 'none';\n",
              "\n",
              "        async function convertToInteractive(key) {\n",
              "          const element = document.querySelector('#df-4a2d2ebd-351b-44f9-9123-e4705457a5a8');\n",
              "          const dataTable =\n",
              "            await google.colab.kernel.invokeFunction('convertToInteractive',\n",
              "                                                     [key], {});\n",
              "          if (!dataTable) return;\n",
              "\n",
              "          const docLinkHtml = 'Like what you see? Visit the ' +\n",
              "            '<a target=\"_blank\" href=https://colab.research.google.com/notebooks/data_table.ipynb>data table notebook</a>'\n",
              "            + ' to learn more about interactive tables.';\n",
              "          element.innerHTML = '';\n",
              "          dataTable['output_type'] = 'display_data';\n",
              "          await google.colab.output.renderOutput(dataTable, element);\n",
              "          const docLink = document.createElement('div');\n",
              "          docLink.innerHTML = docLinkHtml;\n",
              "          element.appendChild(docLink);\n",
              "        }\n",
              "      </script>\n",
              "    </div>\n",
              "  </div>\n",
              "  "
            ]
          },
          "metadata": {},
          "execution_count": 21
        }
      ]
    },
    {
      "cell_type": "code",
      "source": [
        "df_col.iloc[12][3]"
      ],
      "metadata": {
        "colab": {
          "base_uri": "https://localhost:8080/"
        },
        "id": "xxl8Pn1Vl4i5",
        "outputId": "18045d56-2dcd-4ca6-e1ae-9c66e8261583"
      },
      "execution_count": 22,
      "outputs": [
        {
          "output_type": "execute_result",
          "data": {
            "text/plain": [
              "array(['ГоденСКоррекциейЗрения', 'Годен', 'ГоденБезРаботНаВысотах',\n",
              "       'ВременноНегоден', 'ОграниченноГоден'], dtype=object)"
            ]
          },
          "metadata": {},
          "execution_count": 22
        }
      ]
    },
    {
      "cell_type": "code",
      "source": [
        "df_col.iloc[13][3]"
      ],
      "metadata": {
        "colab": {
          "base_uri": "https://localhost:8080/"
        },
        "id": "V2kE92ZbnKd_",
        "outputId": "425e145a-0c8b-494c-d45c-687d2cadddd9"
      },
      "execution_count": 23,
      "outputs": [
        {
          "output_type": "execute_result",
          "data": {
            "text/plain": [
              "array(['Годен к работе в указанных условиях (с коррекцией зрения)',\n",
              "       'Годен к работе в указанных условиях',\n",
              "       'Годен к работе в указанных условиях (без работ на высотах)',\n",
              "       'Временно не годен', 'Ограниченно годен'], dtype=object)"
            ]
          },
          "metadata": {},
          "execution_count": 23
        }
      ]
    },
    {
      "cell_type": "code",
      "source": [
        "df_col.iloc[14][3]"
      ],
      "metadata": {
        "colab": {
          "base_uri": "https://localhost:8080/"
        },
        "id": "iorLqAN-nNeq",
        "outputId": "ca9fbe99-2e13-49e9-8075-90c7755b63d8"
      },
      "execution_count": 24,
      "outputs": [
        {
          "output_type": "execute_result",
          "data": {
            "text/plain": [
              "array(['Годен к работе в указанных условиях (с коррекцией зрения), кроме п.6.1',\n",
              "       'Годен к работе в указанных условиях',\n",
              "       'Годен к работе в указанных условиях (с коррекцией зрения)',\n",
              "       'Годен к работе в указанных условиях (без работ на высотах) Противопоказана работа связанная с  высотой ,подьем и перемещение тяжестей ,длительной ходьбой.',\n",
              "       'Временно не годен', 'Ограниченно годен',\n",
              "       'Годен к работе в указанных условиях, кроме п 6.2', nan],\n",
              "      dtype=object)"
            ]
          },
          "metadata": {},
          "execution_count": 24
        }
      ]
    },
    {
      "cell_type": "code",
      "source": [
        "df_col.iloc[15][3]"
      ],
      "metadata": {
        "colab": {
          "base_uri": "https://localhost:8080/"
        },
        "id": "DJB-q7IVoeJL",
        "outputId": "9673cb10-0c20-4939-bf02-df07c9ac0d07"
      },
      "execution_count": 25,
      "outputs": [
        {
          "output_type": "execute_result",
          "data": {
            "text/plain": [
              "array(['II', 'I', 'IIIа', 'IIIб'], dtype=object)"
            ]
          },
          "metadata": {},
          "execution_count": 25
        }
      ]
    },
    {
      "cell_type": "code",
      "source": [
        "df_col.iloc[17][3]"
      ],
      "metadata": {
        "colab": {
          "base_uri": "https://localhost:8080/"
        },
        "id": "mGXtFA7V2Voh",
        "outputId": "c2142a1c-dd67-4605-e8c2-99c93368af4d"
      },
      "execution_count": 26,
      "outputs": [
        {
          "output_type": "execute_result",
          "data": {
            "text/plain": [
              "array(['5.1,6.1,6.2', '5.1,6', '4.2.5', '5.1,6.2,6.1', '5.1', '6.1,9,15',\n",
              "       '4.7,4.8,5.1', '6.1,15', '18.1', '11.1,18.2', '25', '6.2,9', '23',\n",
              "       '18,18.1,18.2', '11.1,18.1,18.2', '4.7,5.1,11.1', '11.1,18.1',\n",
              "       '8,11.1,18.2', '4.3.1,4.3.2,8', '6.1,9', '4.4,5.1,6.1,15', '15',\n",
              "       '9,6.2', '4.2.5,6.2,9', '18.1,22', '4.2.5,6.2,9,27',\n",
              "       '1.36,4.7,5.1,11.1', '1.29.1,5.1,6.1,9,11.1,15', '23,25', '22',\n",
              "       '4.1,6.2,18.1,18.2', '4.1,6.2', '4.1,4.2.5,4.4', '6.2,4.1', '4.1',\n",
              "       '4.1,4.2.5', '4.1,4.7,4.8,5.1', '4.2.5,6.2', '4.1,4.7,4.8,5.1,6.2',\n",
              "       '9,6.1,6.2'], dtype=object)"
            ]
          },
          "metadata": {},
          "execution_count": 26
        }
      ]
    },
    {
      "cell_type": "code",
      "source": [
        "df_col.iloc[100][3]"
      ],
      "metadata": {
        "colab": {
          "base_uri": "https://localhost:8080/"
        },
        "id": "wXDLcvEp5JpZ",
        "outputId": "aa765fae-f999-48f2-8a8b-298a39c78f34"
      },
      "execution_count": 27,
      "outputs": [
        {
          "output_type": "execute_result",
          "data": {
            "text/plain": [
              "array(['ХР_ГоденКромеПунктов', 'БИТУФА_НеВыявлена', nan], dtype=object)"
            ]
          },
          "metadata": {},
          "execution_count": 27
        }
      ]
    },
    {
      "cell_type": "code",
      "source": [
        "df_col.iloc[101][3]"
      ],
      "metadata": {
        "colab": {
          "base_uri": "https://localhost:8080/"
        },
        "id": "J5fO0sPkFNm2",
        "outputId": "b0e08381-860d-4a18-c10e-6677aca9a513"
      },
      "execution_count": 28,
      "outputs": [
        {
          "output_type": "execute_result",
          "data": {
            "text/plain": [
              "array(['Годен, кроме п.', 'Годен', nan], dtype=object)"
            ]
          },
          "metadata": {},
          "execution_count": 28
        }
      ]
    },
    {
      "cell_type": "code",
      "source": [
        "df4 = df3[['Клиент', 'КлиентДатаРождения', 'КлиентПол', 'ТипМедосмотра', 'ПсихОсвидетельствование', 'Цех', 'Профессия', 'ЗаключениеМК', 'ДиспансернаяГруппа', 'ВредныеФакторы', 'Оториноларингология1_СалонПредставление', 'Оториноларингология1_МКБ101', 'Оториноларингология1_ДиагнозПредставление1', 'Оториноларингология1_Детализация1', 'Оториноларингология1_ПрофнепригодностьВременная1', 'Оториноларингология1_ПрофнепригодностьВременнаяПредставление1', 'Гинекология1_СалонПредставление', 'Гинекология1_СпециализацияПредставление', 'Гинекология1_ХР_Рекомендация1Представление', 'Гинекология1_ХР_Рекомендация2Представление', 'Гинекология1_ХР_РекомендацияСтр', 'Хирургия1_СалонПредставление', 'Хирургия1_СпециализацияПредставление', 'Хирургия1_ХР_Рекомендация1', 'Хирургия1_ХР_Рекомендация2', 'Хирургия1_МКБ101', 'Хирургия1_ДиагнозПредставление1', 'Хирургия1_Детализация1', 'Хирургия1_Профессиональное1', 'Хирургия1_ПрофнепригодностьВременная1', 'Хирургия1_ПрофнепригодностьВременнаяПредставление1', 'Офтальмология1_СалонПредставление', 'Офтальмология1_СпециализацияПредставление', 'Офтальмология1_ХР_Рекомендация1Представление', 'Офтальмология1_ХР_Рекомендация2Представление', 'Офтальмология1_МКБ101', 'Офтальмология1_ДиагнозПредставление1', 'Офтальмология1_Детализация1', 'Офтальмология1_Классификация11', 'Офтальмология1_Классификация1Представление1', 'Офтальмология1_Классификация21', 'Офтальмология1_Классификация31', 'Офтальмология1_Профессиональное1', 'Офтальмология1_ПрофнепригодностьВременнаяПредставление1', 'Рентгенология1_МКБ101', 'Рентгенология1_ПрофнепригодностьВременнаяПредставление1', 'Психиатрия_Наркология1_СпециализацияПредставление', 'Психиатрия_Наркология1_ХР_РекомендацияСтр', 'Психиатрия_Наркология1_МКБ101', 'Психиатрия_Наркология1_ДиагнозПредставление1', 'Психиатрия_Наркология1_Классификация11', 'Психиатрия_Наркология1_Классификация1Представление1', 'Психиатрия_Наркология1_ПрофнепригодностьВременная1', 'Психиатрия_Наркология1_ПрофнепригодностьВременнаяПредставление1', 'Психиатрия_Наркология2_СпециализацияПредставление', 'Психиатрия_Наркология2_МКБ101', 'Психиатрия_Наркология2_ДиагнозПредставление1', 'Психиатрия_Наркология2_ПрофнепригодностьВременнаяПредставление1', 'Неврология1_СпециализацияПредставление', 'Неврология1_МКБ101', 'Неврология1_ДиагнозПредставление1', 'Неврология1_Детализация1', 'Неврология1_Классификация21', 'Неврология1_ПрофнепригодностьВременнаяПредставление1', 'Терапия1_СпециализацияПредставление', 'Терапия1_ХР_Рекомендация1Представление', 'Терапия1_ХР_Рекомендация2Представление', 'Терапия1_МКБ101', 'Терапия1_ДиагнозПредставление1', 'Терапия1_Детализация1', 'Терапия1_Классификация11', 'Терапия1_Классификация1Представление1', 'Терапия1_ПрофнепригодностьВременная1', 'Терапия1_ПрофнепригодностьВременнаяПредставление1', 'Гинекология1_МКБ101', 'Гинекология1_ДиагнозПредставление1', 'Гинекология1_ПрофнепригодностьВременная1', 'Гинекология1_ПрофнепригодностьВременнаяПредставление1', 'Дерматовенерология1_СпециализацияПредставление', 'Дерматовенерология1_ХР_Рекомендация1Представление', 'Дерматовенерология1_ХР_Рекомендация2Представление', 'Дерматовенерология1_МКБ101', 'Дерматовенерология1_ДиагнозПредставление1', 'Дерматовенерология1_Классификация11', 'Дерматовенерология1_Классификация1Представление1', 'Дерматовенерология1_Классификация21', 'Дерматовенерология1_ПрофнепригодностьВременная1', 'Дерматовенерология1_ПрофнепригодностьВременнаяПредставление1', 'Терапия1_МКБ102', 'Терапия1_ДиагнозПредставление2', 'Лабораторные_Исследования1_МКБ101', 'Лабораторные_Исследования1_ДиагнозПредставление1', 'Лабораторные_Исследования1_ПрофнепригодностьВременная1', 'Лабораторные_Исследования1_ПрофнепригодностьВременнаяПредставление1', 'Терапия2_СпециализацияПредставление', 'Терапия2_ХР_Рекомендация1Представление', 'Терапия2_ХР_Рекомендация2Представление', 'Терапия2_МКБ101', 'Терапия2_ДиагнозПредставление1', 'Терапия2_Детализация1', 'Терапия2_Классификация11', 'Терапия2_Классификация1Представление1', 'Терапия2_ПрофнепригодностьВременная1', 'Терапия2_ПрофнепригодностьВременнаяПредставление1', 'Хирург_Не_Исп_1_СпециализацияПредставление', 'Хирург_Не_Исп_1_МКБ101', 'Хирург_Не_Исп_1_ДиагнозПредставление1', 'Хирург_Не_Исп_1_ПрофнепригодностьВременная1', 'Хирург_Не_Исп_1_ПрофнепригодностьВременнаяПредставление1', 'Лабораторные_Исследования2_МКБ101', 'Лабораторные_Исследования2_ПрофнепригодностьВременная1', 'Лабораторные_Исследования2_ПрофнепригодностьВременнаяПредставление1', 'УЗИ_Диагностика1_МКБ101', 'УЗИ_Диагностика1_ДиагнозПредставление1', 'УЗИ_Диагностика1_ПрофнепригодностьВременная1', 'УЗИ_Диагностика1_ПрофнепригодностьВременнаяПредставление1', 'Терапия1_МКБ103', 'Терапия1_ДиагнозПредставление3', 'Процедурная_Медсестра1_МКБ101', 'Процедурная_Медсестра1_ДиагнозПредставление1', 'Процедурная_Медсестра1_ПрофнепригодностьВременная1', 'Процедурная_Медсестра1_ПрофнепригодностьВременнаяПредставление1', 'Психиатрия1_СпециализацияПредставление', 'Психиатрия1_МКБ101', 'Психиатрия1_ДиагнозПредставление1', 'Психиатрия1_ПрофнепригодностьВременная1', 'Психиатрия1_ПрофнепригодностьВременнаяПредставление1', 'Стоматология1_СпециализацияПредставление', 'Стоматология1_ХР_Рекомендация1Представление', 'Эндоскопия1_СпециализацияПредставление', 'Эндоскопия2_СпециализацияПредставление', 'Функциональная_Диагностика1_МКБ101', 'Функциональная_Диагностика1_ДиагнозПредставление1', 'Функциональная_Диагностика1_ПрофнепригодностьВременная1', 'Функциональная_Диагностика1_ПрофнепригодностьВременнаяПредставление1', 'Стоматология1_МКБ101', 'Стоматология1_ДиагнозПредставление1', 'Стоматология1_ПрофнепригодностьВременная1', 'Стоматология1_ПрофнепригодностьВременнаяПредставление1', 'Неврология1_МКБ102', 'Неврология1_ДиагнозПредставление2', 'Гинекология2_СпециализацияПредставление', 'Офтальмология1_МКБ102', 'Офтальмология1_ДиагнозПредставление2', 'УЗИ_Диагностика1_МКБ102', 'УЗИ_Диагностика1_ДиагнозПредставление2', 'Оториноларингология1_МКБ102']]"
      ],
      "metadata": {
        "id": "GivhyIuqebCR"
      },
      "execution_count": 29,
      "outputs": []
    },
    {
      "cell_type": "code",
      "source": [
        "print(df4.shape)"
      ],
      "metadata": {
        "colab": {
          "base_uri": "https://localhost:8080/"
        },
        "id": "PUeRLENIe6Pt",
        "outputId": "10e90f98-f0bc-4ab9-c4c5-ef9bb5c16b59"
      },
      "execution_count": 30,
      "outputs": [
        {
          "output_type": "stream",
          "name": "stdout",
          "text": [
            "(100, 147)\n"
          ]
        }
      ]
    },
    {
      "cell_type": "code",
      "source": [
        "colms2 = df4.columns.values.tolist()"
      ],
      "metadata": {
        "id": "to-GGSbWupAn"
      },
      "execution_count": 31,
      "outputs": []
    },
    {
      "cell_type": "code",
      "source": [
        "data = []\n",
        "for col in colms2:\n",
        "    tp = df4[col].dtypes\n",
        "    q = df4[col].unique()\n",
        "    nq = df4[col].nunique()\n",
        "    data.append([col, tp, nq, q])"
      ],
      "metadata": {
        "id": "7o1RJIATksDV"
      },
      "execution_count": 32,
      "outputs": []
    },
    {
      "cell_type": "code",
      "source": [
        "df_col2 = pd.DataFrame(data, columns=['Название', 'Тип', 'Кол-во уник.знач.', 'Уник.значения'])"
      ],
      "metadata": {
        "id": "iz2Rf10_kruo"
      },
      "execution_count": 33,
      "outputs": []
    },
    {
      "cell_type": "code",
      "source": [
        "df_col2[135:147]"
      ],
      "metadata": {
        "colab": {
          "base_uri": "https://localhost:8080/",
          "height": 425
        },
        "id": "vjB6o3BVvHA5",
        "outputId": "c49245f5-b9b5-4201-acba-358fd417a888"
      },
      "execution_count": 34,
      "outputs": [
        {
          "output_type": "execute_result",
          "data": {
            "text/plain": [
              "                                              Название     Тип  \\\n",
              "135                               Стоматология1_МКБ101  object   \n",
              "136                Стоматология1_ДиагнозПредставление1  object   \n",
              "137          Стоматология1_ПрофнепригодностьВременная1  object   \n",
              "138  Стоматология1_ПрофнепригодностьВременнаяПредст...  object   \n",
              "139                                 Неврология1_МКБ102  object   \n",
              "140                  Неврология1_ДиагнозПредставление2  object   \n",
              "141            Гинекология2_СпециализацияПредставление  object   \n",
              "142                              Офтальмология1_МКБ102  object   \n",
              "143               Офтальмология1_ДиагнозПредставление2  object   \n",
              "144                            УЗИ_Диагностика1_МКБ102  object   \n",
              "145             УЗИ_Диагностика1_ДиагнозПредставление2  object   \n",
              "146                        Оториноларингология1_МКБ102  object   \n",
              "\n",
              "     Кол-во уник.знач.                                      Уник.значения  \n",
              "135                  1                                       [nan, Z00.0]  \n",
              "136                  1                    [nan, Общий медицинский осмотр]  \n",
              "137                  1                           [nan, БИТУФА_НеВыявлена]  \n",
              "138                  1                                       [nan, Годен]  \n",
              "139                  1                                       [nan, I11.9]  \n",
              "140                  1  [nan, Гипертензивная [гипертоническая] болезнь...  \n",
              "141                  1                                 [nan, Гинекология]  \n",
              "142                  1                                       [nan, I25.8]  \n",
              "143                  1  [nan, Другие формы хронической ишемической бол...  \n",
              "144                  1                                       [nan, K80.2]  \n",
              "145                  1       [nan, Камни желчного пузыря без холецистита]  \n",
              "146                  1                                       [nan, H90.3]  "
            ],
            "text/html": [
              "\n",
              "  <div id=\"df-7c9d9704-c18a-4609-9431-9e85ff4df514\">\n",
              "    <div class=\"colab-df-container\">\n",
              "      <div>\n",
              "<style scoped>\n",
              "    .dataframe tbody tr th:only-of-type {\n",
              "        vertical-align: middle;\n",
              "    }\n",
              "\n",
              "    .dataframe tbody tr th {\n",
              "        vertical-align: top;\n",
              "    }\n",
              "\n",
              "    .dataframe thead th {\n",
              "        text-align: right;\n",
              "    }\n",
              "</style>\n",
              "<table border=\"1\" class=\"dataframe\">\n",
              "  <thead>\n",
              "    <tr style=\"text-align: right;\">\n",
              "      <th></th>\n",
              "      <th>Название</th>\n",
              "      <th>Тип</th>\n",
              "      <th>Кол-во уник.знач.</th>\n",
              "      <th>Уник.значения</th>\n",
              "    </tr>\n",
              "  </thead>\n",
              "  <tbody>\n",
              "    <tr>\n",
              "      <th>135</th>\n",
              "      <td>Стоматология1_МКБ101</td>\n",
              "      <td>object</td>\n",
              "      <td>1</td>\n",
              "      <td>[nan, Z00.0]</td>\n",
              "    </tr>\n",
              "    <tr>\n",
              "      <th>136</th>\n",
              "      <td>Стоматология1_ДиагнозПредставление1</td>\n",
              "      <td>object</td>\n",
              "      <td>1</td>\n",
              "      <td>[nan, Общий медицинский осмотр]</td>\n",
              "    </tr>\n",
              "    <tr>\n",
              "      <th>137</th>\n",
              "      <td>Стоматология1_ПрофнепригодностьВременная1</td>\n",
              "      <td>object</td>\n",
              "      <td>1</td>\n",
              "      <td>[nan, БИТУФА_НеВыявлена]</td>\n",
              "    </tr>\n",
              "    <tr>\n",
              "      <th>138</th>\n",
              "      <td>Стоматология1_ПрофнепригодностьВременнаяПредст...</td>\n",
              "      <td>object</td>\n",
              "      <td>1</td>\n",
              "      <td>[nan, Годен]</td>\n",
              "    </tr>\n",
              "    <tr>\n",
              "      <th>139</th>\n",
              "      <td>Неврология1_МКБ102</td>\n",
              "      <td>object</td>\n",
              "      <td>1</td>\n",
              "      <td>[nan, I11.9]</td>\n",
              "    </tr>\n",
              "    <tr>\n",
              "      <th>140</th>\n",
              "      <td>Неврология1_ДиагнозПредставление2</td>\n",
              "      <td>object</td>\n",
              "      <td>1</td>\n",
              "      <td>[nan, Гипертензивная [гипертоническая] болезнь...</td>\n",
              "    </tr>\n",
              "    <tr>\n",
              "      <th>141</th>\n",
              "      <td>Гинекология2_СпециализацияПредставление</td>\n",
              "      <td>object</td>\n",
              "      <td>1</td>\n",
              "      <td>[nan, Гинекология]</td>\n",
              "    </tr>\n",
              "    <tr>\n",
              "      <th>142</th>\n",
              "      <td>Офтальмология1_МКБ102</td>\n",
              "      <td>object</td>\n",
              "      <td>1</td>\n",
              "      <td>[nan, I25.8]</td>\n",
              "    </tr>\n",
              "    <tr>\n",
              "      <th>143</th>\n",
              "      <td>Офтальмология1_ДиагнозПредставление2</td>\n",
              "      <td>object</td>\n",
              "      <td>1</td>\n",
              "      <td>[nan, Другие формы хронической ишемической бол...</td>\n",
              "    </tr>\n",
              "    <tr>\n",
              "      <th>144</th>\n",
              "      <td>УЗИ_Диагностика1_МКБ102</td>\n",
              "      <td>object</td>\n",
              "      <td>1</td>\n",
              "      <td>[nan, K80.2]</td>\n",
              "    </tr>\n",
              "    <tr>\n",
              "      <th>145</th>\n",
              "      <td>УЗИ_Диагностика1_ДиагнозПредставление2</td>\n",
              "      <td>object</td>\n",
              "      <td>1</td>\n",
              "      <td>[nan, Камни желчного пузыря без холецистита]</td>\n",
              "    </tr>\n",
              "    <tr>\n",
              "      <th>146</th>\n",
              "      <td>Оториноларингология1_МКБ102</td>\n",
              "      <td>object</td>\n",
              "      <td>1</td>\n",
              "      <td>[nan, H90.3]</td>\n",
              "    </tr>\n",
              "  </tbody>\n",
              "</table>\n",
              "</div>\n",
              "      <button class=\"colab-df-convert\" onclick=\"convertToInteractive('df-7c9d9704-c18a-4609-9431-9e85ff4df514')\"\n",
              "              title=\"Convert this dataframe to an interactive table.\"\n",
              "              style=\"display:none;\">\n",
              "        \n",
              "  <svg xmlns=\"http://www.w3.org/2000/svg\" height=\"24px\"viewBox=\"0 0 24 24\"\n",
              "       width=\"24px\">\n",
              "    <path d=\"M0 0h24v24H0V0z\" fill=\"none\"/>\n",
              "    <path d=\"M18.56 5.44l.94 2.06.94-2.06 2.06-.94-2.06-.94-.94-2.06-.94 2.06-2.06.94zm-11 1L8.5 8.5l.94-2.06 2.06-.94-2.06-.94L8.5 2.5l-.94 2.06-2.06.94zm10 10l.94 2.06.94-2.06 2.06-.94-2.06-.94-.94-2.06-.94 2.06-2.06.94z\"/><path d=\"M17.41 7.96l-1.37-1.37c-.4-.4-.92-.59-1.43-.59-.52 0-1.04.2-1.43.59L10.3 9.45l-7.72 7.72c-.78.78-.78 2.05 0 2.83L4 21.41c.39.39.9.59 1.41.59.51 0 1.02-.2 1.41-.59l7.78-7.78 2.81-2.81c.8-.78.8-2.07 0-2.86zM5.41 20L4 18.59l7.72-7.72 1.47 1.35L5.41 20z\"/>\n",
              "  </svg>\n",
              "      </button>\n",
              "      \n",
              "  <style>\n",
              "    .colab-df-container {\n",
              "      display:flex;\n",
              "      flex-wrap:wrap;\n",
              "      gap: 12px;\n",
              "    }\n",
              "\n",
              "    .colab-df-convert {\n",
              "      background-color: #E8F0FE;\n",
              "      border: none;\n",
              "      border-radius: 50%;\n",
              "      cursor: pointer;\n",
              "      display: none;\n",
              "      fill: #1967D2;\n",
              "      height: 32px;\n",
              "      padding: 0 0 0 0;\n",
              "      width: 32px;\n",
              "    }\n",
              "\n",
              "    .colab-df-convert:hover {\n",
              "      background-color: #E2EBFA;\n",
              "      box-shadow: 0px 1px 2px rgba(60, 64, 67, 0.3), 0px 1px 3px 1px rgba(60, 64, 67, 0.15);\n",
              "      fill: #174EA6;\n",
              "    }\n",
              "\n",
              "    [theme=dark] .colab-df-convert {\n",
              "      background-color: #3B4455;\n",
              "      fill: #D2E3FC;\n",
              "    }\n",
              "\n",
              "    [theme=dark] .colab-df-convert:hover {\n",
              "      background-color: #434B5C;\n",
              "      box-shadow: 0px 1px 3px 1px rgba(0, 0, 0, 0.15);\n",
              "      filter: drop-shadow(0px 1px 2px rgba(0, 0, 0, 0.3));\n",
              "      fill: #FFFFFF;\n",
              "    }\n",
              "  </style>\n",
              "\n",
              "      <script>\n",
              "        const buttonEl =\n",
              "          document.querySelector('#df-7c9d9704-c18a-4609-9431-9e85ff4df514 button.colab-df-convert');\n",
              "        buttonEl.style.display =\n",
              "          google.colab.kernel.accessAllowed ? 'block' : 'none';\n",
              "\n",
              "        async function convertToInteractive(key) {\n",
              "          const element = document.querySelector('#df-7c9d9704-c18a-4609-9431-9e85ff4df514');\n",
              "          const dataTable =\n",
              "            await google.colab.kernel.invokeFunction('convertToInteractive',\n",
              "                                                     [key], {});\n",
              "          if (!dataTable) return;\n",
              "\n",
              "          const docLinkHtml = 'Like what you see? Visit the ' +\n",
              "            '<a target=\"_blank\" href=https://colab.research.google.com/notebooks/data_table.ipynb>data table notebook</a>'\n",
              "            + ' to learn more about interactive tables.';\n",
              "          element.innerHTML = '';\n",
              "          dataTable['output_type'] = 'display_data';\n",
              "          await google.colab.output.renderOutput(dataTable, element);\n",
              "          const docLink = document.createElement('div');\n",
              "          docLink.innerHTML = docLinkHtml;\n",
              "          element.appendChild(docLink);\n",
              "        }\n",
              "      </script>\n",
              "    </div>\n",
              "  </div>\n",
              "  "
            ]
          },
          "metadata": {},
          "execution_count": 34
        }
      ]
    },
    {
      "cell_type": "code",
      "source": [
        "#Формирование таблицы с нужными стобцами\n",
        "df5 = df4[['КлиентПол', \n",
        "           'КлиентДатаРождения',\n",
        "           'ТипМедосмотра', \n",
        "           'ДиспансернаяГруппа', \n",
        "           'Оториноларингология1_МКБ101', \n",
        "           'Оториноларингология1_ПрофнепригодностьВременнаяПредставление1', \n",
        "           'Хирургия1_МКБ101', \n",
        "           'Хирургия1_ПрофнепригодностьВременнаяПредставление1', \n",
        "           'Офтальмология1_МКБ101', \n",
        "           'Офтальмология1_ПрофнепригодностьВременнаяПредставление1', \n",
        "           'Рентгенология1_МКБ101', \n",
        "           'Рентгенология1_ПрофнепригодностьВременнаяПредставление1', \n",
        "           'Психиатрия_Наркология1_МКБ101', \n",
        "           'Психиатрия_Наркология1_ПрофнепригодностьВременнаяПредставление1', \n",
        "           'Психиатрия_Наркология2_МКБ101', \n",
        "           'Психиатрия_Наркология2_ПрофнепригодностьВременнаяПредставление1', \n",
        "           'Неврология1_МКБ101', \n",
        "           'Неврология1_ПрофнепригодностьВременнаяПредставление1', \n",
        "           'Терапия1_МКБ101', \n",
        "           'Терапия1_ПрофнепригодностьВременнаяПредставление1', \n",
        "           'Гинекология1_МКБ101', \n",
        "           'Гинекология1_ПрофнепригодностьВременнаяПредставление1', \n",
        "           'Дерматовенерология1_МКБ101', \n",
        "           'Дерматовенерология1_ПрофнепригодностьВременнаяПредставление1', \n",
        "           'Терапия1_МКБ102', \n",
        "           'Лабораторные_Исследования1_МКБ101',\n",
        "           'Лабораторные_Исследования1_ПрофнепригодностьВременнаяПредставление1', \n",
        "           'Терапия2_МКБ101', \n",
        "           'Терапия2_ПрофнепригодностьВременнаяПредставление1', \n",
        "           'Хирург_Не_Исп_1_МКБ101', \n",
        "           'Хирург_Не_Исп_1_ПрофнепригодностьВременнаяПредставление1', \n",
        "           'Лабораторные_Исследования2_МКБ101', \n",
        "           'Лабораторные_Исследования2_ПрофнепригодностьВременнаяПредставление1', \n",
        "           'УЗИ_Диагностика1_МКБ101', \n",
        "           'УЗИ_Диагностика1_ПрофнепригодностьВременнаяПредставление1', \n",
        "           'Терапия1_МКБ103', \n",
        "           'Процедурная_Медсестра1_МКБ101', \n",
        "           'Процедурная_Медсестра1_ПрофнепригодностьВременнаяПредставление1', \n",
        "           'Психиатрия1_МКБ101',\n",
        "           'Психиатрия1_ПрофнепригодностьВременнаяПредставление1', \n",
        "           'Функциональная_Диагностика1_МКБ101', \n",
        "           'Функциональная_Диагностика1_ПрофнепригодностьВременнаяПредставление1', \n",
        "           'Стоматология1_МКБ101', \n",
        "           'Стоматология1_ПрофнепригодностьВременнаяПредставление1', \n",
        "           'Неврология1_МКБ102', \n",
        "           'Офтальмология1_МКБ102', \n",
        "           'УЗИ_Диагностика1_МКБ102', \n",
        "           'Оториноларингология1_МКБ102'\n",
        "           ]]"
      ],
      "metadata": {
        "id": "ttE8dy2mu7aP"
      },
      "execution_count": 35,
      "outputs": []
    },
    {
      "cell_type": "code",
      "source": [
        "#Формирование таблицы с нужными стобцами\n",
        "df6 = df4[['Клиент','КлиентДатаРождения', 'Профессия', 'ВредныеФакторы']]"
      ],
      "metadata": {
        "id": "vn0y4VSKf4Z7"
      },
      "execution_count": 36,
      "outputs": []
    },
    {
      "cell_type": "code",
      "source": [
        "print(df5.shape)"
      ],
      "metadata": {
        "colab": {
          "base_uri": "https://localhost:8080/"
        },
        "id": "YqQV7whlu7Jz",
        "outputId": "f95e35a8-0a92-44ac-f72b-b580bbc7c19b"
      },
      "execution_count": 37,
      "outputs": [
        {
          "output_type": "stream",
          "name": "stdout",
          "text": [
            "(100, 48)\n"
          ]
        }
      ]
    },
    {
      "cell_type": "code",
      "source": [
        "df4.loc[(df4['ЗаключениеМК'] == 'ГоденСКоррекциейЗрения')|(df4['ЗаключениеМК'] == 'ГоденБезРаботНаВысотах')|(df4['ЗаключениеМК'] == 'ВременноНегоден'), 'ЗаключениеМК'] = 'ОграниченноГоден'\n"
      ],
      "metadata": {
        "id": "k2T4HyH8S4Fo"
      },
      "execution_count": 38,
      "outputs": []
    },
    {
      "cell_type": "code",
      "source": [
        "colms3 = df5.columns.values.tolist()\n",
        "data = []\n",
        "for col in colms3:\n",
        "    tp = df5[col].dtypes\n",
        "    q = df5[col].unique()\n",
        "    nq = df5[col].nunique()\n",
        "    data.append([col, tp, nq, q])"
      ],
      "metadata": {
        "id": "zit0J_hFGb3E"
      },
      "execution_count": 39,
      "outputs": []
    },
    {
      "cell_type": "code",
      "source": [
        "df_col3 = pd.DataFrame(data, columns=['Название', 'Тип', 'Кол-во уник.знач.', 'Уник.значения'])"
      ],
      "metadata": {
        "id": "x0xDhnaXGbvo"
      },
      "execution_count": 40,
      "outputs": []
    },
    {
      "cell_type": "code",
      "source": [
        "df_col3[0:52]"
      ],
      "metadata": {
        "colab": {
          "base_uri": "https://localhost:8080/",
          "height": 1000
        },
        "id": "Ry5pCQv_Gblk",
        "outputId": "e71eb175-dff6-41a6-8991-c403f1726a00"
      },
      "execution_count": 41,
      "outputs": [
        {
          "output_type": "execute_result",
          "data": {
            "text/plain": [
              "                                             Название     Тип  \\\n",
              "0                                           КлиентПол  object   \n",
              "1                                  КлиентДатаРождения  object   \n",
              "2                                       ТипМедосмотра  object   \n",
              "3                                  ДиспансернаяГруппа  object   \n",
              "4                         Оториноларингология1_МКБ101  object   \n",
              "5   Оториноларингология1_ПрофнепригодностьВременна...  object   \n",
              "6                                    Хирургия1_МКБ101  object   \n",
              "7   Хирургия1_ПрофнепригодностьВременнаяПредставле...  object   \n",
              "8                               Офтальмология1_МКБ101  object   \n",
              "9   Офтальмология1_ПрофнепригодностьВременнаяПредс...  object   \n",
              "10                              Рентгенология1_МКБ101  object   \n",
              "11  Рентгенология1_ПрофнепригодностьВременнаяПредс...  object   \n",
              "12                      Психиатрия_Наркология1_МКБ101  object   \n",
              "13  Психиатрия_Наркология1_ПрофнепригодностьВремен...  object   \n",
              "14                      Психиатрия_Наркология2_МКБ101  object   \n",
              "15  Психиатрия_Наркология2_ПрофнепригодностьВремен...  object   \n",
              "16                                 Неврология1_МКБ101  object   \n",
              "17  Неврология1_ПрофнепригодностьВременнаяПредстав...  object   \n",
              "18                                    Терапия1_МКБ101  object   \n",
              "19  Терапия1_ПрофнепригодностьВременнаяПредставление1  object   \n",
              "20                                Гинекология1_МКБ101  object   \n",
              "21  Гинекология1_ПрофнепригодностьВременнаяПредста...  object   \n",
              "22                         Дерматовенерология1_МКБ101  object   \n",
              "23  Дерматовенерология1_ПрофнепригодностьВременная...  object   \n",
              "24                                    Терапия1_МКБ102  object   \n",
              "25                  Лабораторные_Исследования1_МКБ101  object   \n",
              "26  Лабораторные_Исследования1_ПрофнепригодностьВр...  object   \n",
              "27                                    Терапия2_МКБ101  object   \n",
              "28  Терапия2_ПрофнепригодностьВременнаяПредставление1  object   \n",
              "29                             Хирург_Не_Исп_1_МКБ101  object   \n",
              "30  Хирург_Не_Исп_1_ПрофнепригодностьВременнаяПред...  object   \n",
              "31                  Лабораторные_Исследования2_МКБ101  object   \n",
              "32  Лабораторные_Исследования2_ПрофнепригодностьВр...  object   \n",
              "33                            УЗИ_Диагностика1_МКБ101  object   \n",
              "34  УЗИ_Диагностика1_ПрофнепригодностьВременнаяПре...  object   \n",
              "35                                    Терапия1_МКБ103  object   \n",
              "36                      Процедурная_Медсестра1_МКБ101  object   \n",
              "37  Процедурная_Медсестра1_ПрофнепригодностьВремен...  object   \n",
              "38                                 Психиатрия1_МКБ101  object   \n",
              "39  Психиатрия1_ПрофнепригодностьВременнаяПредстав...  object   \n",
              "40                 Функциональная_Диагностика1_МКБ101  object   \n",
              "41  Функциональная_Диагностика1_ПрофнепригодностьВ...  object   \n",
              "42                               Стоматология1_МКБ101  object   \n",
              "43  Стоматология1_ПрофнепригодностьВременнаяПредст...  object   \n",
              "44                                 Неврология1_МКБ102  object   \n",
              "45                              Офтальмология1_МКБ102  object   \n",
              "46                            УЗИ_Диагностика1_МКБ102  object   \n",
              "47                        Оториноларингология1_МКБ102  object   \n",
              "\n",
              "    Кол-во уник.знач.                                      Уник.значения  \n",
              "0                   2                                 [Женский, Мужской]  \n",
              "1                  99  [1972-03-05, 1988-09-16, 2002-05-26, 1968-03-1...  \n",
              "2                   1                                    [Периодический]  \n",
              "3                   4                                [II, I, IIIа, IIIб]  \n",
              "4                   3                         [Z00.0, nan, H90.3, H91.1]  \n",
              "5                   1                                       [Годен, nan]  \n",
              "6                   3                         [Z00.0, nan, S68.2, K40.9]  \n",
              "7                   2                    [Годен, nan, Временно не годен]  \n",
              "8                   7  [H52.1, Z00.0, H52.0, nan, H11.0, H52.2, H50.9...  \n",
              "9                   2                      [Годен, кроме п., Годен, nan]  \n",
              "10                  1                                       [Z00.0, nan]  \n",
              "11                  1                                       [Годен, nan]  \n",
              "12                  2                                [Z00.0, nan, F06.6]  \n",
              "13                  1                                       [Годен, nan]  \n",
              "14                  1                                       [Z00.0, nan]  \n",
              "15                  1                                       [Годен, nan]  \n",
              "16                  3                         [Z00.0, nan, G12.1, M42.1]  \n",
              "17                  2                      [Годен, nan, Годен, кроме п.]  \n",
              "18                  5           [Z00.0, nan, I11.9, K29.3, K26.9, E10.9]  \n",
              "19                  3          [Годен, nan, Временно не годен, Не годен]  \n",
              "20                  1                                       [nan, Z00.0]  \n",
              "21                  1                                       [nan, Годен]  \n",
              "22                  2                                [nan, Z00.0, L40.0]  \n",
              "23                  1                                       [nan, Годен]  \n",
              "24                  4                  [nan, I11.9, H52.1, E11.8, I25.2]  \n",
              "25                  1                                       [nan, Z00.0]  \n",
              "26                  1                                       [nan, Годен]  \n",
              "27                  3                         [nan, Z00.0, I11.9, K29.3]  \n",
              "28                  1                                       [nan, Годен]  \n",
              "29                  1                                       [nan, Z00.0]  \n",
              "30                  1                                       [nan, Годен]  \n",
              "31                  1                                       [nan, Z00.0]  \n",
              "32                  1                                       [nan, Годен]  \n",
              "33                  2                                [nan, N60.2, Z00.0]  \n",
              "34                  1                                       [nan, Годен]  \n",
              "35                  2                                [nan, E11.9, I11.9]  \n",
              "36                  1                                       [nan, Z00.0]  \n",
              "37                  1                                       [nan, Годен]  \n",
              "38                  1                                       [nan, Z00.0]  \n",
              "39                  1                                       [nan, Годен]  \n",
              "40                  1                                       [nan, Z00.0]  \n",
              "41                  1                                       [nan, Годен]  \n",
              "42                  1                                       [nan, Z00.0]  \n",
              "43                  1                                       [nan, Годен]  \n",
              "44                  1                                       [nan, I11.9]  \n",
              "45                  1                                       [nan, I25.8]  \n",
              "46                  1                                       [nan, K80.2]  \n",
              "47                  1                                       [nan, H90.3]  "
            ],
            "text/html": [
              "\n",
              "  <div id=\"df-be884f7b-64fb-484f-ba79-c7de0a22d846\">\n",
              "    <div class=\"colab-df-container\">\n",
              "      <div>\n",
              "<style scoped>\n",
              "    .dataframe tbody tr th:only-of-type {\n",
              "        vertical-align: middle;\n",
              "    }\n",
              "\n",
              "    .dataframe tbody tr th {\n",
              "        vertical-align: top;\n",
              "    }\n",
              "\n",
              "    .dataframe thead th {\n",
              "        text-align: right;\n",
              "    }\n",
              "</style>\n",
              "<table border=\"1\" class=\"dataframe\">\n",
              "  <thead>\n",
              "    <tr style=\"text-align: right;\">\n",
              "      <th></th>\n",
              "      <th>Название</th>\n",
              "      <th>Тип</th>\n",
              "      <th>Кол-во уник.знач.</th>\n",
              "      <th>Уник.значения</th>\n",
              "    </tr>\n",
              "  </thead>\n",
              "  <tbody>\n",
              "    <tr>\n",
              "      <th>0</th>\n",
              "      <td>КлиентПол</td>\n",
              "      <td>object</td>\n",
              "      <td>2</td>\n",
              "      <td>[Женский, Мужской]</td>\n",
              "    </tr>\n",
              "    <tr>\n",
              "      <th>1</th>\n",
              "      <td>КлиентДатаРождения</td>\n",
              "      <td>object</td>\n",
              "      <td>99</td>\n",
              "      <td>[1972-03-05, 1988-09-16, 2002-05-26, 1968-03-1...</td>\n",
              "    </tr>\n",
              "    <tr>\n",
              "      <th>2</th>\n",
              "      <td>ТипМедосмотра</td>\n",
              "      <td>object</td>\n",
              "      <td>1</td>\n",
              "      <td>[Периодический]</td>\n",
              "    </tr>\n",
              "    <tr>\n",
              "      <th>3</th>\n",
              "      <td>ДиспансернаяГруппа</td>\n",
              "      <td>object</td>\n",
              "      <td>4</td>\n",
              "      <td>[II, I, IIIа, IIIб]</td>\n",
              "    </tr>\n",
              "    <tr>\n",
              "      <th>4</th>\n",
              "      <td>Оториноларингология1_МКБ101</td>\n",
              "      <td>object</td>\n",
              "      <td>3</td>\n",
              "      <td>[Z00.0, nan, H90.3, H91.1]</td>\n",
              "    </tr>\n",
              "    <tr>\n",
              "      <th>5</th>\n",
              "      <td>Оториноларингология1_ПрофнепригодностьВременна...</td>\n",
              "      <td>object</td>\n",
              "      <td>1</td>\n",
              "      <td>[Годен, nan]</td>\n",
              "    </tr>\n",
              "    <tr>\n",
              "      <th>6</th>\n",
              "      <td>Хирургия1_МКБ101</td>\n",
              "      <td>object</td>\n",
              "      <td>3</td>\n",
              "      <td>[Z00.0, nan, S68.2, K40.9]</td>\n",
              "    </tr>\n",
              "    <tr>\n",
              "      <th>7</th>\n",
              "      <td>Хирургия1_ПрофнепригодностьВременнаяПредставле...</td>\n",
              "      <td>object</td>\n",
              "      <td>2</td>\n",
              "      <td>[Годен, nan, Временно не годен]</td>\n",
              "    </tr>\n",
              "    <tr>\n",
              "      <th>8</th>\n",
              "      <td>Офтальмология1_МКБ101</td>\n",
              "      <td>object</td>\n",
              "      <td>7</td>\n",
              "      <td>[H52.1, Z00.0, H52.0, nan, H11.0, H52.2, H50.9...</td>\n",
              "    </tr>\n",
              "    <tr>\n",
              "      <th>9</th>\n",
              "      <td>Офтальмология1_ПрофнепригодностьВременнаяПредс...</td>\n",
              "      <td>object</td>\n",
              "      <td>2</td>\n",
              "      <td>[Годен, кроме п., Годен, nan]</td>\n",
              "    </tr>\n",
              "    <tr>\n",
              "      <th>10</th>\n",
              "      <td>Рентгенология1_МКБ101</td>\n",
              "      <td>object</td>\n",
              "      <td>1</td>\n",
              "      <td>[Z00.0, nan]</td>\n",
              "    </tr>\n",
              "    <tr>\n",
              "      <th>11</th>\n",
              "      <td>Рентгенология1_ПрофнепригодностьВременнаяПредс...</td>\n",
              "      <td>object</td>\n",
              "      <td>1</td>\n",
              "      <td>[Годен, nan]</td>\n",
              "    </tr>\n",
              "    <tr>\n",
              "      <th>12</th>\n",
              "      <td>Психиатрия_Наркология1_МКБ101</td>\n",
              "      <td>object</td>\n",
              "      <td>2</td>\n",
              "      <td>[Z00.0, nan, F06.6]</td>\n",
              "    </tr>\n",
              "    <tr>\n",
              "      <th>13</th>\n",
              "      <td>Психиатрия_Наркология1_ПрофнепригодностьВремен...</td>\n",
              "      <td>object</td>\n",
              "      <td>1</td>\n",
              "      <td>[Годен, nan]</td>\n",
              "    </tr>\n",
              "    <tr>\n",
              "      <th>14</th>\n",
              "      <td>Психиатрия_Наркология2_МКБ101</td>\n",
              "      <td>object</td>\n",
              "      <td>1</td>\n",
              "      <td>[Z00.0, nan]</td>\n",
              "    </tr>\n",
              "    <tr>\n",
              "      <th>15</th>\n",
              "      <td>Психиатрия_Наркология2_ПрофнепригодностьВремен...</td>\n",
              "      <td>object</td>\n",
              "      <td>1</td>\n",
              "      <td>[Годен, nan]</td>\n",
              "    </tr>\n",
              "    <tr>\n",
              "      <th>16</th>\n",
              "      <td>Неврология1_МКБ101</td>\n",
              "      <td>object</td>\n",
              "      <td>3</td>\n",
              "      <td>[Z00.0, nan, G12.1, M42.1]</td>\n",
              "    </tr>\n",
              "    <tr>\n",
              "      <th>17</th>\n",
              "      <td>Неврология1_ПрофнепригодностьВременнаяПредстав...</td>\n",
              "      <td>object</td>\n",
              "      <td>2</td>\n",
              "      <td>[Годен, nan, Годен, кроме п.]</td>\n",
              "    </tr>\n",
              "    <tr>\n",
              "      <th>18</th>\n",
              "      <td>Терапия1_МКБ101</td>\n",
              "      <td>object</td>\n",
              "      <td>5</td>\n",
              "      <td>[Z00.0, nan, I11.9, K29.3, K26.9, E10.9]</td>\n",
              "    </tr>\n",
              "    <tr>\n",
              "      <th>19</th>\n",
              "      <td>Терапия1_ПрофнепригодностьВременнаяПредставление1</td>\n",
              "      <td>object</td>\n",
              "      <td>3</td>\n",
              "      <td>[Годен, nan, Временно не годен, Не годен]</td>\n",
              "    </tr>\n",
              "    <tr>\n",
              "      <th>20</th>\n",
              "      <td>Гинекология1_МКБ101</td>\n",
              "      <td>object</td>\n",
              "      <td>1</td>\n",
              "      <td>[nan, Z00.0]</td>\n",
              "    </tr>\n",
              "    <tr>\n",
              "      <th>21</th>\n",
              "      <td>Гинекология1_ПрофнепригодностьВременнаяПредста...</td>\n",
              "      <td>object</td>\n",
              "      <td>1</td>\n",
              "      <td>[nan, Годен]</td>\n",
              "    </tr>\n",
              "    <tr>\n",
              "      <th>22</th>\n",
              "      <td>Дерматовенерология1_МКБ101</td>\n",
              "      <td>object</td>\n",
              "      <td>2</td>\n",
              "      <td>[nan, Z00.0, L40.0]</td>\n",
              "    </tr>\n",
              "    <tr>\n",
              "      <th>23</th>\n",
              "      <td>Дерматовенерология1_ПрофнепригодностьВременная...</td>\n",
              "      <td>object</td>\n",
              "      <td>1</td>\n",
              "      <td>[nan, Годен]</td>\n",
              "    </tr>\n",
              "    <tr>\n",
              "      <th>24</th>\n",
              "      <td>Терапия1_МКБ102</td>\n",
              "      <td>object</td>\n",
              "      <td>4</td>\n",
              "      <td>[nan, I11.9, H52.1, E11.8, I25.2]</td>\n",
              "    </tr>\n",
              "    <tr>\n",
              "      <th>25</th>\n",
              "      <td>Лабораторные_Исследования1_МКБ101</td>\n",
              "      <td>object</td>\n",
              "      <td>1</td>\n",
              "      <td>[nan, Z00.0]</td>\n",
              "    </tr>\n",
              "    <tr>\n",
              "      <th>26</th>\n",
              "      <td>Лабораторные_Исследования1_ПрофнепригодностьВр...</td>\n",
              "      <td>object</td>\n",
              "      <td>1</td>\n",
              "      <td>[nan, Годен]</td>\n",
              "    </tr>\n",
              "    <tr>\n",
              "      <th>27</th>\n",
              "      <td>Терапия2_МКБ101</td>\n",
              "      <td>object</td>\n",
              "      <td>3</td>\n",
              "      <td>[nan, Z00.0, I11.9, K29.3]</td>\n",
              "    </tr>\n",
              "    <tr>\n",
              "      <th>28</th>\n",
              "      <td>Терапия2_ПрофнепригодностьВременнаяПредставление1</td>\n",
              "      <td>object</td>\n",
              "      <td>1</td>\n",
              "      <td>[nan, Годен]</td>\n",
              "    </tr>\n",
              "    <tr>\n",
              "      <th>29</th>\n",
              "      <td>Хирург_Не_Исп_1_МКБ101</td>\n",
              "      <td>object</td>\n",
              "      <td>1</td>\n",
              "      <td>[nan, Z00.0]</td>\n",
              "    </tr>\n",
              "    <tr>\n",
              "      <th>30</th>\n",
              "      <td>Хирург_Не_Исп_1_ПрофнепригодностьВременнаяПред...</td>\n",
              "      <td>object</td>\n",
              "      <td>1</td>\n",
              "      <td>[nan, Годен]</td>\n",
              "    </tr>\n",
              "    <tr>\n",
              "      <th>31</th>\n",
              "      <td>Лабораторные_Исследования2_МКБ101</td>\n",
              "      <td>object</td>\n",
              "      <td>1</td>\n",
              "      <td>[nan, Z00.0]</td>\n",
              "    </tr>\n",
              "    <tr>\n",
              "      <th>32</th>\n",
              "      <td>Лабораторные_Исследования2_ПрофнепригодностьВр...</td>\n",
              "      <td>object</td>\n",
              "      <td>1</td>\n",
              "      <td>[nan, Годен]</td>\n",
              "    </tr>\n",
              "    <tr>\n",
              "      <th>33</th>\n",
              "      <td>УЗИ_Диагностика1_МКБ101</td>\n",
              "      <td>object</td>\n",
              "      <td>2</td>\n",
              "      <td>[nan, N60.2, Z00.0]</td>\n",
              "    </tr>\n",
              "    <tr>\n",
              "      <th>34</th>\n",
              "      <td>УЗИ_Диагностика1_ПрофнепригодностьВременнаяПре...</td>\n",
              "      <td>object</td>\n",
              "      <td>1</td>\n",
              "      <td>[nan, Годен]</td>\n",
              "    </tr>\n",
              "    <tr>\n",
              "      <th>35</th>\n",
              "      <td>Терапия1_МКБ103</td>\n",
              "      <td>object</td>\n",
              "      <td>2</td>\n",
              "      <td>[nan, E11.9, I11.9]</td>\n",
              "    </tr>\n",
              "    <tr>\n",
              "      <th>36</th>\n",
              "      <td>Процедурная_Медсестра1_МКБ101</td>\n",
              "      <td>object</td>\n",
              "      <td>1</td>\n",
              "      <td>[nan, Z00.0]</td>\n",
              "    </tr>\n",
              "    <tr>\n",
              "      <th>37</th>\n",
              "      <td>Процедурная_Медсестра1_ПрофнепригодностьВремен...</td>\n",
              "      <td>object</td>\n",
              "      <td>1</td>\n",
              "      <td>[nan, Годен]</td>\n",
              "    </tr>\n",
              "    <tr>\n",
              "      <th>38</th>\n",
              "      <td>Психиатрия1_МКБ101</td>\n",
              "      <td>object</td>\n",
              "      <td>1</td>\n",
              "      <td>[nan, Z00.0]</td>\n",
              "    </tr>\n",
              "    <tr>\n",
              "      <th>39</th>\n",
              "      <td>Психиатрия1_ПрофнепригодностьВременнаяПредстав...</td>\n",
              "      <td>object</td>\n",
              "      <td>1</td>\n",
              "      <td>[nan, Годен]</td>\n",
              "    </tr>\n",
              "    <tr>\n",
              "      <th>40</th>\n",
              "      <td>Функциональная_Диагностика1_МКБ101</td>\n",
              "      <td>object</td>\n",
              "      <td>1</td>\n",
              "      <td>[nan, Z00.0]</td>\n",
              "    </tr>\n",
              "    <tr>\n",
              "      <th>41</th>\n",
              "      <td>Функциональная_Диагностика1_ПрофнепригодностьВ...</td>\n",
              "      <td>object</td>\n",
              "      <td>1</td>\n",
              "      <td>[nan, Годен]</td>\n",
              "    </tr>\n",
              "    <tr>\n",
              "      <th>42</th>\n",
              "      <td>Стоматология1_МКБ101</td>\n",
              "      <td>object</td>\n",
              "      <td>1</td>\n",
              "      <td>[nan, Z00.0]</td>\n",
              "    </tr>\n",
              "    <tr>\n",
              "      <th>43</th>\n",
              "      <td>Стоматология1_ПрофнепригодностьВременнаяПредст...</td>\n",
              "      <td>object</td>\n",
              "      <td>1</td>\n",
              "      <td>[nan, Годен]</td>\n",
              "    </tr>\n",
              "    <tr>\n",
              "      <th>44</th>\n",
              "      <td>Неврология1_МКБ102</td>\n",
              "      <td>object</td>\n",
              "      <td>1</td>\n",
              "      <td>[nan, I11.9]</td>\n",
              "    </tr>\n",
              "    <tr>\n",
              "      <th>45</th>\n",
              "      <td>Офтальмология1_МКБ102</td>\n",
              "      <td>object</td>\n",
              "      <td>1</td>\n",
              "      <td>[nan, I25.8]</td>\n",
              "    </tr>\n",
              "    <tr>\n",
              "      <th>46</th>\n",
              "      <td>УЗИ_Диагностика1_МКБ102</td>\n",
              "      <td>object</td>\n",
              "      <td>1</td>\n",
              "      <td>[nan, K80.2]</td>\n",
              "    </tr>\n",
              "    <tr>\n",
              "      <th>47</th>\n",
              "      <td>Оториноларингология1_МКБ102</td>\n",
              "      <td>object</td>\n",
              "      <td>1</td>\n",
              "      <td>[nan, H90.3]</td>\n",
              "    </tr>\n",
              "  </tbody>\n",
              "</table>\n",
              "</div>\n",
              "      <button class=\"colab-df-convert\" onclick=\"convertToInteractive('df-be884f7b-64fb-484f-ba79-c7de0a22d846')\"\n",
              "              title=\"Convert this dataframe to an interactive table.\"\n",
              "              style=\"display:none;\">\n",
              "        \n",
              "  <svg xmlns=\"http://www.w3.org/2000/svg\" height=\"24px\"viewBox=\"0 0 24 24\"\n",
              "       width=\"24px\">\n",
              "    <path d=\"M0 0h24v24H0V0z\" fill=\"none\"/>\n",
              "    <path d=\"M18.56 5.44l.94 2.06.94-2.06 2.06-.94-2.06-.94-.94-2.06-.94 2.06-2.06.94zm-11 1L8.5 8.5l.94-2.06 2.06-.94-2.06-.94L8.5 2.5l-.94 2.06-2.06.94zm10 10l.94 2.06.94-2.06 2.06-.94-2.06-.94-.94-2.06-.94 2.06-2.06.94z\"/><path d=\"M17.41 7.96l-1.37-1.37c-.4-.4-.92-.59-1.43-.59-.52 0-1.04.2-1.43.59L10.3 9.45l-7.72 7.72c-.78.78-.78 2.05 0 2.83L4 21.41c.39.39.9.59 1.41.59.51 0 1.02-.2 1.41-.59l7.78-7.78 2.81-2.81c.8-.78.8-2.07 0-2.86zM5.41 20L4 18.59l7.72-7.72 1.47 1.35L5.41 20z\"/>\n",
              "  </svg>\n",
              "      </button>\n",
              "      \n",
              "  <style>\n",
              "    .colab-df-container {\n",
              "      display:flex;\n",
              "      flex-wrap:wrap;\n",
              "      gap: 12px;\n",
              "    }\n",
              "\n",
              "    .colab-df-convert {\n",
              "      background-color: #E8F0FE;\n",
              "      border: none;\n",
              "      border-radius: 50%;\n",
              "      cursor: pointer;\n",
              "      display: none;\n",
              "      fill: #1967D2;\n",
              "      height: 32px;\n",
              "      padding: 0 0 0 0;\n",
              "      width: 32px;\n",
              "    }\n",
              "\n",
              "    .colab-df-convert:hover {\n",
              "      background-color: #E2EBFA;\n",
              "      box-shadow: 0px 1px 2px rgba(60, 64, 67, 0.3), 0px 1px 3px 1px rgba(60, 64, 67, 0.15);\n",
              "      fill: #174EA6;\n",
              "    }\n",
              "\n",
              "    [theme=dark] .colab-df-convert {\n",
              "      background-color: #3B4455;\n",
              "      fill: #D2E3FC;\n",
              "    }\n",
              "\n",
              "    [theme=dark] .colab-df-convert:hover {\n",
              "      background-color: #434B5C;\n",
              "      box-shadow: 0px 1px 3px 1px rgba(0, 0, 0, 0.15);\n",
              "      filter: drop-shadow(0px 1px 2px rgba(0, 0, 0, 0.3));\n",
              "      fill: #FFFFFF;\n",
              "    }\n",
              "  </style>\n",
              "\n",
              "      <script>\n",
              "        const buttonEl =\n",
              "          document.querySelector('#df-be884f7b-64fb-484f-ba79-c7de0a22d846 button.colab-df-convert');\n",
              "        buttonEl.style.display =\n",
              "          google.colab.kernel.accessAllowed ? 'block' : 'none';\n",
              "\n",
              "        async function convertToInteractive(key) {\n",
              "          const element = document.querySelector('#df-be884f7b-64fb-484f-ba79-c7de0a22d846');\n",
              "          const dataTable =\n",
              "            await google.colab.kernel.invokeFunction('convertToInteractive',\n",
              "                                                     [key], {});\n",
              "          if (!dataTable) return;\n",
              "\n",
              "          const docLinkHtml = 'Like what you see? Visit the ' +\n",
              "            '<a target=\"_blank\" href=https://colab.research.google.com/notebooks/data_table.ipynb>data table notebook</a>'\n",
              "            + ' to learn more about interactive tables.';\n",
              "          element.innerHTML = '';\n",
              "          dataTable['output_type'] = 'display_data';\n",
              "          await google.colab.output.renderOutput(dataTable, element);\n",
              "          const docLink = document.createElement('div');\n",
              "          docLink.innerHTML = docLinkHtml;\n",
              "          element.appendChild(docLink);\n",
              "        }\n",
              "      </script>\n",
              "    </div>\n",
              "  </div>\n",
              "  "
            ]
          },
          "metadata": {},
          "execution_count": 41
        }
      ]
    },
    {
      "cell_type": "markdown",
      "source": [],
      "metadata": {
        "id": "3rgyL7RIp-id"
      }
    },
    {
      "cell_type": "markdown",
      "source": [
        "#Парсим базу, создаем обучающую и проверочные выборки"
      ],
      "metadata": {
        "id": "w8qXTzHzqDsD"
      }
    },
    {
      "cell_type": "code",
      "source": [
        "# Данные о возрасте\n",
        "def getParameterAge(arg):\n",
        "    s = arg.split('-')\n",
        "    out = 2023 - int(s[0])\n",
        "    return out\n",
        "\n",
        "# Полученный возраст превращаем в класс возрастной категории\n",
        "def getParameterAgeVect(arg):\n",
        "    outClass =int((arg-13)/5)\n",
        "    outClass = max(0, min(10,outClass))\n",
        "    return outClass"
      ],
      "metadata": {
        "id": "QBkhfqIomoGh"
      },
      "execution_count": 42,
      "outputs": []
    },
    {
      "cell_type": "code",
      "source": [
        "df5['Возраст'] = df5['КлиентДатаРождения'].apply(getParameterAge)\n",
        "df5['ВозрастнаяКатегория'] = df5['Возраст'].apply(getParameterAgeVect)\n",
        "df5.drop(['КлиентДатаРождения', 'Возраст'], axis=1, inplace=True)"
      ],
      "metadata": {
        "colab": {
          "base_uri": "https://localhost:8080/"
        },
        "id": "YtIjqrxFfPix",
        "outputId": "25573cfb-829e-4e63-f13e-721c4eb14fbc"
      },
      "execution_count": 43,
      "outputs": [
        {
          "output_type": "stream",
          "name": "stderr",
          "text": [
            "<ipython-input-43-927e14e80a53>:1: SettingWithCopyWarning: \n",
            "A value is trying to be set on a copy of a slice from a DataFrame.\n",
            "Try using .loc[row_indexer,col_indexer] = value instead\n",
            "\n",
            "See the caveats in the documentation: https://pandas.pydata.org/pandas-docs/stable/user_guide/indexing.html#returning-a-view-versus-a-copy\n",
            "  df5['Возраст'] = df5['КлиентДатаРождения'].apply(getParameterAge)\n",
            "<ipython-input-43-927e14e80a53>:2: SettingWithCopyWarning: \n",
            "A value is trying to be set on a copy of a slice from a DataFrame.\n",
            "Try using .loc[row_indexer,col_indexer] = value instead\n",
            "\n",
            "See the caveats in the documentation: https://pandas.pydata.org/pandas-docs/stable/user_guide/indexing.html#returning-a-view-versus-a-copy\n",
            "  df5['ВозрастнаяКатегория'] = df5['Возраст'].apply(getParameterAgeVect)\n",
            "<ipython-input-43-927e14e80a53>:3: SettingWithCopyWarning: \n",
            "A value is trying to be set on a copy of a slice from a DataFrame\n",
            "\n",
            "See the caveats in the documentation: https://pandas.pydata.org/pandas-docs/stable/user_guide/indexing.html#returning-a-view-versus-a-copy\n",
            "  df5.drop(['КлиентДатаРождения', 'Возраст'], axis=1, inplace=True)\n"
          ]
        }
      ]
    },
    {
      "cell_type": "code",
      "source": [
        "#Преобразование в OHE\n",
        "df_ohe = pd.get_dummies(df5, columns=['КлиентПол', \n",
        "                            'ВозрастнаяКатегория',          \n",
        "                            'ТипМедосмотра', \n",
        "                            'ДиспансернаяГруппа', \n",
        "                            'Оториноларингология1_МКБ101', \n",
        "                            'Оториноларингология1_ПрофнепригодностьВременнаяПредставление1', \n",
        "                            'Хирургия1_МКБ101', \n",
        "                            'Хирургия1_ПрофнепригодностьВременнаяПредставление1', \n",
        "                            'Офтальмология1_МКБ101', \n",
        "                            'Офтальмология1_ПрофнепригодностьВременнаяПредставление1', \n",
        "                            'Рентгенология1_МКБ101', \n",
        "                            'Рентгенология1_ПрофнепригодностьВременнаяПредставление1', \n",
        "                            'Психиатрия_Наркология1_МКБ101', \n",
        "                            'Психиатрия_Наркология1_ПрофнепригодностьВременнаяПредставление1', \n",
        "                            'Психиатрия_Наркология2_МКБ101', \n",
        "                            'Психиатрия_Наркология2_ПрофнепригодностьВременнаяПредставление1', \n",
        "                            'Неврология1_МКБ101', \n",
        "                            'Неврология1_ПрофнепригодностьВременнаяПредставление1', \n",
        "                            'Терапия1_МКБ101', \n",
        "                            'Терапия1_ПрофнепригодностьВременнаяПредставление1', \n",
        "                            'Гинекология1_МКБ101', \n",
        "                            'Гинекология1_ПрофнепригодностьВременнаяПредставление1', \n",
        "                            'Дерматовенерология1_МКБ101', \n",
        "                            'Дерматовенерология1_ПрофнепригодностьВременнаяПредставление1', \n",
        "                            'Терапия1_МКБ102', \n",
        "                            'Лабораторные_Исследования1_МКБ101',\n",
        "                            'Лабораторные_Исследования1_ПрофнепригодностьВременнаяПредставление1', \n",
        "                            'Терапия2_МКБ101', \n",
        "                            'Терапия2_ПрофнепригодностьВременнаяПредставление1', \n",
        "                            'Хирург_Не_Исп_1_МКБ101', \n",
        "                            'Хирург_Не_Исп_1_ПрофнепригодностьВременнаяПредставление1', \n",
        "                            'Лабораторные_Исследования2_МКБ101', \n",
        "                            'Лабораторные_Исследования2_ПрофнепригодностьВременнаяПредставление1', \n",
        "                            'УЗИ_Диагностика1_МКБ101', \n",
        "                            'УЗИ_Диагностика1_ПрофнепригодностьВременнаяПредставление1', \n",
        "                            'Терапия1_МКБ103', \n",
        "                            'Процедурная_Медсестра1_МКБ101', \n",
        "                            'Процедурная_Медсестра1_ПрофнепригодностьВременнаяПредставление1', \n",
        "                            'Психиатрия1_МКБ101',\n",
        "                            'Психиатрия1_ПрофнепригодностьВременнаяПредставление1', \n",
        "                            'Функциональная_Диагностика1_МКБ101', \n",
        "                            'Функциональная_Диагностика1_ПрофнепригодностьВременнаяПредставление1', \n",
        "                            'Стоматология1_МКБ101', \n",
        "                            'Стоматология1_ПрофнепригодностьВременнаяПредставление1', \n",
        "                            'Неврология1_МКБ102', \n",
        "                            'Офтальмология1_МКБ102', \n",
        "                            'УЗИ_Диагностика1_МКБ102', \n",
        "                            'Оториноларингология1_МКБ102'\n",
        "                           ])"
      ],
      "metadata": {
        "id": "kEabR_2ZgBf_"
      },
      "execution_count": 44,
      "outputs": []
    },
    {
      "cell_type": "code",
      "source": [
        "df_ohe"
      ],
      "metadata": {
        "colab": {
          "base_uri": "https://localhost:8080/",
          "height": 487
        },
        "id": "rKm9-lo0Z0Ow",
        "outputId": "6a80f631-661b-4bf8-fea9-01b649847170"
      },
      "execution_count": 45,
      "outputs": [
        {
          "output_type": "execute_result",
          "data": {
            "text/plain": [
              "     КлиентПол_Женский  КлиентПол_Мужской  ВозрастнаяКатегория_1  \\\n",
              "0                    1                  0                      0   \n",
              "1                    1                  0                      0   \n",
              "2                    1                  0                      1   \n",
              "3                    1                  0                      0   \n",
              "4                    1                  0                      0   \n",
              "..                 ...                ...                    ...   \n",
              "97                   1                  0                      0   \n",
              "98                   0                  1                      0   \n",
              "99                   0                  1                      0   \n",
              "100                  0                  1                      0   \n",
              "101                  0                  1                      0   \n",
              "\n",
              "     ВозрастнаяКатегория_2  ВозрастнаяКатегория_3  ВозрастнаяКатегория_4  \\\n",
              "0                        0                      0                      0   \n",
              "1                        0                      0                      1   \n",
              "2                        0                      0                      0   \n",
              "3                        0                      0                      0   \n",
              "4                        0                      0                      0   \n",
              "..                     ...                    ...                    ...   \n",
              "97                       0                      0                      0   \n",
              "98                       0                      0                      0   \n",
              "99                       0                      0                      0   \n",
              "100                      0                      0                      0   \n",
              "101                      0                      0                      0   \n",
              "\n",
              "     ВозрастнаяКатегория_5  ВозрастнаяКатегория_6  ВозрастнаяКатегория_7  \\\n",
              "0                        0                      0                      1   \n",
              "1                        0                      0                      0   \n",
              "2                        0                      0                      0   \n",
              "3                        0                      0                      0   \n",
              "4                        0                      0                      1   \n",
              "..                     ...                    ...                    ...   \n",
              "97                       1                      0                      0   \n",
              "98                       0                      0                      0   \n",
              "99                       0                      0                      0   \n",
              "100                      0                      0                      0   \n",
              "101                      0                      1                      0   \n",
              "\n",
              "     ВозрастнаяКатегория_8  ...  Психиатрия1_МКБ101_Z00.0  \\\n",
              "0                        0  ...                         0   \n",
              "1                        0  ...                         0   \n",
              "2                        0  ...                         0   \n",
              "3                        1  ...                         0   \n",
              "4                        0  ...                         0   \n",
              "..                     ...  ...                       ...   \n",
              "97                       0  ...                         0   \n",
              "98                       0  ...                         0   \n",
              "99                       0  ...                         0   \n",
              "100                      1  ...                         0   \n",
              "101                      0  ...                         0   \n",
              "\n",
              "     Психиатрия1_ПрофнепригодностьВременнаяПредставление1_Годен  \\\n",
              "0                                                    0            \n",
              "1                                                    0            \n",
              "2                                                    0            \n",
              "3                                                    0            \n",
              "4                                                    0            \n",
              "..                                                 ...            \n",
              "97                                                   0            \n",
              "98                                                   0            \n",
              "99                                                   0            \n",
              "100                                                  0            \n",
              "101                                                  0            \n",
              "\n",
              "     Функциональная_Диагностика1_МКБ101_Z00.0  \\\n",
              "0                                           0   \n",
              "1                                           0   \n",
              "2                                           0   \n",
              "3                                           0   \n",
              "4                                           0   \n",
              "..                                        ...   \n",
              "97                                          0   \n",
              "98                                          0   \n",
              "99                                          0   \n",
              "100                                         0   \n",
              "101                                         0   \n",
              "\n",
              "     Функциональная_Диагностика1_ПрофнепригодностьВременнаяПредставление1_Годен  \\\n",
              "0                                                    0                            \n",
              "1                                                    0                            \n",
              "2                                                    0                            \n",
              "3                                                    0                            \n",
              "4                                                    0                            \n",
              "..                                                 ...                            \n",
              "97                                                   0                            \n",
              "98                                                   0                            \n",
              "99                                                   0                            \n",
              "100                                                  0                            \n",
              "101                                                  0                            \n",
              "\n",
              "     Стоматология1_МКБ101_Z00.0  \\\n",
              "0                             0   \n",
              "1                             0   \n",
              "2                             0   \n",
              "3                             0   \n",
              "4                             0   \n",
              "..                          ...   \n",
              "97                            0   \n",
              "98                            0   \n",
              "99                            0   \n",
              "100                           0   \n",
              "101                           0   \n",
              "\n",
              "     Стоматология1_ПрофнепригодностьВременнаяПредставление1_Годен  \\\n",
              "0                                                    0              \n",
              "1                                                    0              \n",
              "2                                                    0              \n",
              "3                                                    0              \n",
              "4                                                    0              \n",
              "..                                                 ...              \n",
              "97                                                   0              \n",
              "98                                                   0              \n",
              "99                                                   0              \n",
              "100                                                  0              \n",
              "101                                                  0              \n",
              "\n",
              "     Неврология1_МКБ102_I11.9  Офтальмология1_МКБ102_I25.8  \\\n",
              "0                           0                            0   \n",
              "1                           0                            0   \n",
              "2                           0                            0   \n",
              "3                           0                            0   \n",
              "4                           0                            0   \n",
              "..                        ...                          ...   \n",
              "97                          0                            0   \n",
              "98                          0                            0   \n",
              "99                          0                            0   \n",
              "100                         0                            0   \n",
              "101                         0                            0   \n",
              "\n",
              "     УЗИ_Диагностика1_МКБ102_K80.2  Оториноларингология1_МКБ102_H90.3  \n",
              "0                                0                                  0  \n",
              "1                                0                                  0  \n",
              "2                                0                                  0  \n",
              "3                                0                                  0  \n",
              "4                                0                                  0  \n",
              "..                             ...                                ...  \n",
              "97                               0                                  0  \n",
              "98                               0                                  0  \n",
              "99                               0                                  1  \n",
              "100                              0                                  0  \n",
              "101                              0                                  0  \n",
              "\n",
              "[100 rows x 91 columns]"
            ],
            "text/html": [
              "\n",
              "  <div id=\"df-94ccd729-197b-42d6-af08-c2b772cdad33\">\n",
              "    <div class=\"colab-df-container\">\n",
              "      <div>\n",
              "<style scoped>\n",
              "    .dataframe tbody tr th:only-of-type {\n",
              "        vertical-align: middle;\n",
              "    }\n",
              "\n",
              "    .dataframe tbody tr th {\n",
              "        vertical-align: top;\n",
              "    }\n",
              "\n",
              "    .dataframe thead th {\n",
              "        text-align: right;\n",
              "    }\n",
              "</style>\n",
              "<table border=\"1\" class=\"dataframe\">\n",
              "  <thead>\n",
              "    <tr style=\"text-align: right;\">\n",
              "      <th></th>\n",
              "      <th>КлиентПол_Женский</th>\n",
              "      <th>КлиентПол_Мужской</th>\n",
              "      <th>ВозрастнаяКатегория_1</th>\n",
              "      <th>ВозрастнаяКатегория_2</th>\n",
              "      <th>ВозрастнаяКатегория_3</th>\n",
              "      <th>ВозрастнаяКатегория_4</th>\n",
              "      <th>ВозрастнаяКатегория_5</th>\n",
              "      <th>ВозрастнаяКатегория_6</th>\n",
              "      <th>ВозрастнаяКатегория_7</th>\n",
              "      <th>ВозрастнаяКатегория_8</th>\n",
              "      <th>...</th>\n",
              "      <th>Психиатрия1_МКБ101_Z00.0</th>\n",
              "      <th>Психиатрия1_ПрофнепригодностьВременнаяПредставление1_Годен</th>\n",
              "      <th>Функциональная_Диагностика1_МКБ101_Z00.0</th>\n",
              "      <th>Функциональная_Диагностика1_ПрофнепригодностьВременнаяПредставление1_Годен</th>\n",
              "      <th>Стоматология1_МКБ101_Z00.0</th>\n",
              "      <th>Стоматология1_ПрофнепригодностьВременнаяПредставление1_Годен</th>\n",
              "      <th>Неврология1_МКБ102_I11.9</th>\n",
              "      <th>Офтальмология1_МКБ102_I25.8</th>\n",
              "      <th>УЗИ_Диагностика1_МКБ102_K80.2</th>\n",
              "      <th>Оториноларингология1_МКБ102_H90.3</th>\n",
              "    </tr>\n",
              "  </thead>\n",
              "  <tbody>\n",
              "    <tr>\n",
              "      <th>0</th>\n",
              "      <td>1</td>\n",
              "      <td>0</td>\n",
              "      <td>0</td>\n",
              "      <td>0</td>\n",
              "      <td>0</td>\n",
              "      <td>0</td>\n",
              "      <td>0</td>\n",
              "      <td>0</td>\n",
              "      <td>1</td>\n",
              "      <td>0</td>\n",
              "      <td>...</td>\n",
              "      <td>0</td>\n",
              "      <td>0</td>\n",
              "      <td>0</td>\n",
              "      <td>0</td>\n",
              "      <td>0</td>\n",
              "      <td>0</td>\n",
              "      <td>0</td>\n",
              "      <td>0</td>\n",
              "      <td>0</td>\n",
              "      <td>0</td>\n",
              "    </tr>\n",
              "    <tr>\n",
              "      <th>1</th>\n",
              "      <td>1</td>\n",
              "      <td>0</td>\n",
              "      <td>0</td>\n",
              "      <td>0</td>\n",
              "      <td>0</td>\n",
              "      <td>1</td>\n",
              "      <td>0</td>\n",
              "      <td>0</td>\n",
              "      <td>0</td>\n",
              "      <td>0</td>\n",
              "      <td>...</td>\n",
              "      <td>0</td>\n",
              "      <td>0</td>\n",
              "      <td>0</td>\n",
              "      <td>0</td>\n",
              "      <td>0</td>\n",
              "      <td>0</td>\n",
              "      <td>0</td>\n",
              "      <td>0</td>\n",
              "      <td>0</td>\n",
              "      <td>0</td>\n",
              "    </tr>\n",
              "    <tr>\n",
              "      <th>2</th>\n",
              "      <td>1</td>\n",
              "      <td>0</td>\n",
              "      <td>1</td>\n",
              "      <td>0</td>\n",
              "      <td>0</td>\n",
              "      <td>0</td>\n",
              "      <td>0</td>\n",
              "      <td>0</td>\n",
              "      <td>0</td>\n",
              "      <td>0</td>\n",
              "      <td>...</td>\n",
              "      <td>0</td>\n",
              "      <td>0</td>\n",
              "      <td>0</td>\n",
              "      <td>0</td>\n",
              "      <td>0</td>\n",
              "      <td>0</td>\n",
              "      <td>0</td>\n",
              "      <td>0</td>\n",
              "      <td>0</td>\n",
              "      <td>0</td>\n",
              "    </tr>\n",
              "    <tr>\n",
              "      <th>3</th>\n",
              "      <td>1</td>\n",
              "      <td>0</td>\n",
              "      <td>0</td>\n",
              "      <td>0</td>\n",
              "      <td>0</td>\n",
              "      <td>0</td>\n",
              "      <td>0</td>\n",
              "      <td>0</td>\n",
              "      <td>0</td>\n",
              "      <td>1</td>\n",
              "      <td>...</td>\n",
              "      <td>0</td>\n",
              "      <td>0</td>\n",
              "      <td>0</td>\n",
              "      <td>0</td>\n",
              "      <td>0</td>\n",
              "      <td>0</td>\n",
              "      <td>0</td>\n",
              "      <td>0</td>\n",
              "      <td>0</td>\n",
              "      <td>0</td>\n",
              "    </tr>\n",
              "    <tr>\n",
              "      <th>4</th>\n",
              "      <td>1</td>\n",
              "      <td>0</td>\n",
              "      <td>0</td>\n",
              "      <td>0</td>\n",
              "      <td>0</td>\n",
              "      <td>0</td>\n",
              "      <td>0</td>\n",
              "      <td>0</td>\n",
              "      <td>1</td>\n",
              "      <td>0</td>\n",
              "      <td>...</td>\n",
              "      <td>0</td>\n",
              "      <td>0</td>\n",
              "      <td>0</td>\n",
              "      <td>0</td>\n",
              "      <td>0</td>\n",
              "      <td>0</td>\n",
              "      <td>0</td>\n",
              "      <td>0</td>\n",
              "      <td>0</td>\n",
              "      <td>0</td>\n",
              "    </tr>\n",
              "    <tr>\n",
              "      <th>...</th>\n",
              "      <td>...</td>\n",
              "      <td>...</td>\n",
              "      <td>...</td>\n",
              "      <td>...</td>\n",
              "      <td>...</td>\n",
              "      <td>...</td>\n",
              "      <td>...</td>\n",
              "      <td>...</td>\n",
              "      <td>...</td>\n",
              "      <td>...</td>\n",
              "      <td>...</td>\n",
              "      <td>...</td>\n",
              "      <td>...</td>\n",
              "      <td>...</td>\n",
              "      <td>...</td>\n",
              "      <td>...</td>\n",
              "      <td>...</td>\n",
              "      <td>...</td>\n",
              "      <td>...</td>\n",
              "      <td>...</td>\n",
              "      <td>...</td>\n",
              "    </tr>\n",
              "    <tr>\n",
              "      <th>97</th>\n",
              "      <td>1</td>\n",
              "      <td>0</td>\n",
              "      <td>0</td>\n",
              "      <td>0</td>\n",
              "      <td>0</td>\n",
              "      <td>0</td>\n",
              "      <td>1</td>\n",
              "      <td>0</td>\n",
              "      <td>0</td>\n",
              "      <td>0</td>\n",
              "      <td>...</td>\n",
              "      <td>0</td>\n",
              "      <td>0</td>\n",
              "      <td>0</td>\n",
              "      <td>0</td>\n",
              "      <td>0</td>\n",
              "      <td>0</td>\n",
              "      <td>0</td>\n",
              "      <td>0</td>\n",
              "      <td>0</td>\n",
              "      <td>0</td>\n",
              "    </tr>\n",
              "    <tr>\n",
              "      <th>98</th>\n",
              "      <td>0</td>\n",
              "      <td>1</td>\n",
              "      <td>0</td>\n",
              "      <td>0</td>\n",
              "      <td>0</td>\n",
              "      <td>0</td>\n",
              "      <td>0</td>\n",
              "      <td>0</td>\n",
              "      <td>0</td>\n",
              "      <td>0</td>\n",
              "      <td>...</td>\n",
              "      <td>0</td>\n",
              "      <td>0</td>\n",
              "      <td>0</td>\n",
              "      <td>0</td>\n",
              "      <td>0</td>\n",
              "      <td>0</td>\n",
              "      <td>0</td>\n",
              "      <td>0</td>\n",
              "      <td>0</td>\n",
              "      <td>0</td>\n",
              "    </tr>\n",
              "    <tr>\n",
              "      <th>99</th>\n",
              "      <td>0</td>\n",
              "      <td>1</td>\n",
              "      <td>0</td>\n",
              "      <td>0</td>\n",
              "      <td>0</td>\n",
              "      <td>0</td>\n",
              "      <td>0</td>\n",
              "      <td>0</td>\n",
              "      <td>0</td>\n",
              "      <td>0</td>\n",
              "      <td>...</td>\n",
              "      <td>0</td>\n",
              "      <td>0</td>\n",
              "      <td>0</td>\n",
              "      <td>0</td>\n",
              "      <td>0</td>\n",
              "      <td>0</td>\n",
              "      <td>0</td>\n",
              "      <td>0</td>\n",
              "      <td>0</td>\n",
              "      <td>1</td>\n",
              "    </tr>\n",
              "    <tr>\n",
              "      <th>100</th>\n",
              "      <td>0</td>\n",
              "      <td>1</td>\n",
              "      <td>0</td>\n",
              "      <td>0</td>\n",
              "      <td>0</td>\n",
              "      <td>0</td>\n",
              "      <td>0</td>\n",
              "      <td>0</td>\n",
              "      <td>0</td>\n",
              "      <td>1</td>\n",
              "      <td>...</td>\n",
              "      <td>0</td>\n",
              "      <td>0</td>\n",
              "      <td>0</td>\n",
              "      <td>0</td>\n",
              "      <td>0</td>\n",
              "      <td>0</td>\n",
              "      <td>0</td>\n",
              "      <td>0</td>\n",
              "      <td>0</td>\n",
              "      <td>0</td>\n",
              "    </tr>\n",
              "    <tr>\n",
              "      <th>101</th>\n",
              "      <td>0</td>\n",
              "      <td>1</td>\n",
              "      <td>0</td>\n",
              "      <td>0</td>\n",
              "      <td>0</td>\n",
              "      <td>0</td>\n",
              "      <td>0</td>\n",
              "      <td>1</td>\n",
              "      <td>0</td>\n",
              "      <td>0</td>\n",
              "      <td>...</td>\n",
              "      <td>0</td>\n",
              "      <td>0</td>\n",
              "      <td>0</td>\n",
              "      <td>0</td>\n",
              "      <td>0</td>\n",
              "      <td>0</td>\n",
              "      <td>0</td>\n",
              "      <td>0</td>\n",
              "      <td>0</td>\n",
              "      <td>0</td>\n",
              "    </tr>\n",
              "  </tbody>\n",
              "</table>\n",
              "<p>100 rows × 91 columns</p>\n",
              "</div>\n",
              "      <button class=\"colab-df-convert\" onclick=\"convertToInteractive('df-94ccd729-197b-42d6-af08-c2b772cdad33')\"\n",
              "              title=\"Convert this dataframe to an interactive table.\"\n",
              "              style=\"display:none;\">\n",
              "        \n",
              "  <svg xmlns=\"http://www.w3.org/2000/svg\" height=\"24px\"viewBox=\"0 0 24 24\"\n",
              "       width=\"24px\">\n",
              "    <path d=\"M0 0h24v24H0V0z\" fill=\"none\"/>\n",
              "    <path d=\"M18.56 5.44l.94 2.06.94-2.06 2.06-.94-2.06-.94-.94-2.06-.94 2.06-2.06.94zm-11 1L8.5 8.5l.94-2.06 2.06-.94-2.06-.94L8.5 2.5l-.94 2.06-2.06.94zm10 10l.94 2.06.94-2.06 2.06-.94-2.06-.94-.94-2.06-.94 2.06-2.06.94z\"/><path d=\"M17.41 7.96l-1.37-1.37c-.4-.4-.92-.59-1.43-.59-.52 0-1.04.2-1.43.59L10.3 9.45l-7.72 7.72c-.78.78-.78 2.05 0 2.83L4 21.41c.39.39.9.59 1.41.59.51 0 1.02-.2 1.41-.59l7.78-7.78 2.81-2.81c.8-.78.8-2.07 0-2.86zM5.41 20L4 18.59l7.72-7.72 1.47 1.35L5.41 20z\"/>\n",
              "  </svg>\n",
              "      </button>\n",
              "      \n",
              "  <style>\n",
              "    .colab-df-container {\n",
              "      display:flex;\n",
              "      flex-wrap:wrap;\n",
              "      gap: 12px;\n",
              "    }\n",
              "\n",
              "    .colab-df-convert {\n",
              "      background-color: #E8F0FE;\n",
              "      border: none;\n",
              "      border-radius: 50%;\n",
              "      cursor: pointer;\n",
              "      display: none;\n",
              "      fill: #1967D2;\n",
              "      height: 32px;\n",
              "      padding: 0 0 0 0;\n",
              "      width: 32px;\n",
              "    }\n",
              "\n",
              "    .colab-df-convert:hover {\n",
              "      background-color: #E2EBFA;\n",
              "      box-shadow: 0px 1px 2px rgba(60, 64, 67, 0.3), 0px 1px 3px 1px rgba(60, 64, 67, 0.15);\n",
              "      fill: #174EA6;\n",
              "    }\n",
              "\n",
              "    [theme=dark] .colab-df-convert {\n",
              "      background-color: #3B4455;\n",
              "      fill: #D2E3FC;\n",
              "    }\n",
              "\n",
              "    [theme=dark] .colab-df-convert:hover {\n",
              "      background-color: #434B5C;\n",
              "      box-shadow: 0px 1px 3px 1px rgba(0, 0, 0, 0.15);\n",
              "      filter: drop-shadow(0px 1px 2px rgba(0, 0, 0, 0.3));\n",
              "      fill: #FFFFFF;\n",
              "    }\n",
              "  </style>\n",
              "\n",
              "      <script>\n",
              "        const buttonEl =\n",
              "          document.querySelector('#df-94ccd729-197b-42d6-af08-c2b772cdad33 button.colab-df-convert');\n",
              "        buttonEl.style.display =\n",
              "          google.colab.kernel.accessAllowed ? 'block' : 'none';\n",
              "\n",
              "        async function convertToInteractive(key) {\n",
              "          const element = document.querySelector('#df-94ccd729-197b-42d6-af08-c2b772cdad33');\n",
              "          const dataTable =\n",
              "            await google.colab.kernel.invokeFunction('convertToInteractive',\n",
              "                                                     [key], {});\n",
              "          if (!dataTable) return;\n",
              "\n",
              "          const docLinkHtml = 'Like what you see? Visit the ' +\n",
              "            '<a target=\"_blank\" href=https://colab.research.google.com/notebooks/data_table.ipynb>data table notebook</a>'\n",
              "            + ' to learn more about interactive tables.';\n",
              "          element.innerHTML = '';\n",
              "          dataTable['output_type'] = 'display_data';\n",
              "          await google.colab.output.renderOutput(dataTable, element);\n",
              "          const docLink = document.createElement('div');\n",
              "          docLink.innerHTML = docLinkHtml;\n",
              "          element.appendChild(docLink);\n",
              "        }\n",
              "      </script>\n",
              "    </div>\n",
              "  </div>\n",
              "  "
            ]
          },
          "metadata": {},
          "execution_count": 45
        }
      ]
    },
    {
      "cell_type": "code",
      "source": [
        "colms5 = df_ohe.columns.values.tolist()"
      ],
      "metadata": {
        "id": "WfBL8EIUtbdI"
      },
      "execution_count": 46,
      "outputs": []
    },
    {
      "cell_type": "code",
      "source": [
        "df6"
      ],
      "metadata": {
        "colab": {
          "base_uri": "https://localhost:8080/",
          "height": 423
        },
        "id": "0aVAjpzch9T9",
        "outputId": "7586d75b-e2bf-424c-99b2-0c15442a779a"
      },
      "execution_count": 47,
      "outputs": [
        {
          "output_type": "execute_result",
          "data": {
            "text/plain": [
              "                                   Клиент КлиентДатаРождения  \\\n",
              "0    11ba74dd-5503-11e8-80ce-0cc47aab8067         1972-03-05   \n",
              "1    11ba74df-5503-11e8-80ce-0cc47aab8067         1988-09-16   \n",
              "2    5f637b0b-dd0e-11ec-8100-0cc47aab8067         2002-05-26   \n",
              "3    11ba74e4-5503-11e8-80ce-0cc47aab8067         1968-03-16   \n",
              "4    7afbc5e9-0c2d-11ea-80d3-0cc47aab8067         1974-06-17   \n",
              "..                                    ...                ...   \n",
              "97   116fe69a-455f-11ed-8107-0cc47aab8067         1982-07-20   \n",
              "98   7c2eb069-43ef-11e6-8349-b8975a94e496         1956-05-01   \n",
              "99   116fe695-455f-11ed-8107-0cc47aab8067         1965-03-25   \n",
              "100  116fe69f-455f-11ed-8107-0cc47aab8067         1969-10-18   \n",
              "101  5789f036-5727-11ec-80fc-0cc47aab8067         1976-09-28   \n",
              "\n",
              "                   Профессия       ВредныеФакторы  \n",
              "0        Мойщик ВС 2 разряда          5.1,6.1,6.2  \n",
              "1    Кладовщик-комплектовщик                5.1,6  \n",
              "2    Кладовщик комплектовщик                4.2.5  \n",
              "3         Мойщик службы БОВС          5.1,6.1,6.2  \n",
              "4         Мойщик службы БОВС          5.1,6.1,6.2  \n",
              "..                       ...                  ...  \n",
              "97                 Кладовщик            4.2.5,6.2  \n",
              "98           Главный инженер            4.1,4.2.5  \n",
              "99       Слесарь - ремонтник  4.1,4.7,4.8,5.1,6.2  \n",
              "100         Переработчик РАО                  4.1  \n",
              "101                   Техник            9,6.1,6.2  \n",
              "\n",
              "[100 rows x 4 columns]"
            ],
            "text/html": [
              "\n",
              "  <div id=\"df-79ca8162-bdac-429b-a827-6070c2e03e24\">\n",
              "    <div class=\"colab-df-container\">\n",
              "      <div>\n",
              "<style scoped>\n",
              "    .dataframe tbody tr th:only-of-type {\n",
              "        vertical-align: middle;\n",
              "    }\n",
              "\n",
              "    .dataframe tbody tr th {\n",
              "        vertical-align: top;\n",
              "    }\n",
              "\n",
              "    .dataframe thead th {\n",
              "        text-align: right;\n",
              "    }\n",
              "</style>\n",
              "<table border=\"1\" class=\"dataframe\">\n",
              "  <thead>\n",
              "    <tr style=\"text-align: right;\">\n",
              "      <th></th>\n",
              "      <th>Клиент</th>\n",
              "      <th>КлиентДатаРождения</th>\n",
              "      <th>Профессия</th>\n",
              "      <th>ВредныеФакторы</th>\n",
              "    </tr>\n",
              "  </thead>\n",
              "  <tbody>\n",
              "    <tr>\n",
              "      <th>0</th>\n",
              "      <td>11ba74dd-5503-11e8-80ce-0cc47aab8067</td>\n",
              "      <td>1972-03-05</td>\n",
              "      <td>Мойщик ВС 2 разряда</td>\n",
              "      <td>5.1,6.1,6.2</td>\n",
              "    </tr>\n",
              "    <tr>\n",
              "      <th>1</th>\n",
              "      <td>11ba74df-5503-11e8-80ce-0cc47aab8067</td>\n",
              "      <td>1988-09-16</td>\n",
              "      <td>Кладовщик-комплектовщик</td>\n",
              "      <td>5.1,6</td>\n",
              "    </tr>\n",
              "    <tr>\n",
              "      <th>2</th>\n",
              "      <td>5f637b0b-dd0e-11ec-8100-0cc47aab8067</td>\n",
              "      <td>2002-05-26</td>\n",
              "      <td>Кладовщик комплектовщик</td>\n",
              "      <td>4.2.5</td>\n",
              "    </tr>\n",
              "    <tr>\n",
              "      <th>3</th>\n",
              "      <td>11ba74e4-5503-11e8-80ce-0cc47aab8067</td>\n",
              "      <td>1968-03-16</td>\n",
              "      <td>Мойщик службы БОВС</td>\n",
              "      <td>5.1,6.1,6.2</td>\n",
              "    </tr>\n",
              "    <tr>\n",
              "      <th>4</th>\n",
              "      <td>7afbc5e9-0c2d-11ea-80d3-0cc47aab8067</td>\n",
              "      <td>1974-06-17</td>\n",
              "      <td>Мойщик службы БОВС</td>\n",
              "      <td>5.1,6.1,6.2</td>\n",
              "    </tr>\n",
              "    <tr>\n",
              "      <th>...</th>\n",
              "      <td>...</td>\n",
              "      <td>...</td>\n",
              "      <td>...</td>\n",
              "      <td>...</td>\n",
              "    </tr>\n",
              "    <tr>\n",
              "      <th>97</th>\n",
              "      <td>116fe69a-455f-11ed-8107-0cc47aab8067</td>\n",
              "      <td>1982-07-20</td>\n",
              "      <td>Кладовщик</td>\n",
              "      <td>4.2.5,6.2</td>\n",
              "    </tr>\n",
              "    <tr>\n",
              "      <th>98</th>\n",
              "      <td>7c2eb069-43ef-11e6-8349-b8975a94e496</td>\n",
              "      <td>1956-05-01</td>\n",
              "      <td>Главный инженер</td>\n",
              "      <td>4.1,4.2.5</td>\n",
              "    </tr>\n",
              "    <tr>\n",
              "      <th>99</th>\n",
              "      <td>116fe695-455f-11ed-8107-0cc47aab8067</td>\n",
              "      <td>1965-03-25</td>\n",
              "      <td>Слесарь - ремонтник</td>\n",
              "      <td>4.1,4.7,4.8,5.1,6.2</td>\n",
              "    </tr>\n",
              "    <tr>\n",
              "      <th>100</th>\n",
              "      <td>116fe69f-455f-11ed-8107-0cc47aab8067</td>\n",
              "      <td>1969-10-18</td>\n",
              "      <td>Переработчик РАО</td>\n",
              "      <td>4.1</td>\n",
              "    </tr>\n",
              "    <tr>\n",
              "      <th>101</th>\n",
              "      <td>5789f036-5727-11ec-80fc-0cc47aab8067</td>\n",
              "      <td>1976-09-28</td>\n",
              "      <td>Техник</td>\n",
              "      <td>9,6.1,6.2</td>\n",
              "    </tr>\n",
              "  </tbody>\n",
              "</table>\n",
              "<p>100 rows × 4 columns</p>\n",
              "</div>\n",
              "      <button class=\"colab-df-convert\" onclick=\"convertToInteractive('df-79ca8162-bdac-429b-a827-6070c2e03e24')\"\n",
              "              title=\"Convert this dataframe to an interactive table.\"\n",
              "              style=\"display:none;\">\n",
              "        \n",
              "  <svg xmlns=\"http://www.w3.org/2000/svg\" height=\"24px\"viewBox=\"0 0 24 24\"\n",
              "       width=\"24px\">\n",
              "    <path d=\"M0 0h24v24H0V0z\" fill=\"none\"/>\n",
              "    <path d=\"M18.56 5.44l.94 2.06.94-2.06 2.06-.94-2.06-.94-.94-2.06-.94 2.06-2.06.94zm-11 1L8.5 8.5l.94-2.06 2.06-.94-2.06-.94L8.5 2.5l-.94 2.06-2.06.94zm10 10l.94 2.06.94-2.06 2.06-.94-2.06-.94-.94-2.06-.94 2.06-2.06.94z\"/><path d=\"M17.41 7.96l-1.37-1.37c-.4-.4-.92-.59-1.43-.59-.52 0-1.04.2-1.43.59L10.3 9.45l-7.72 7.72c-.78.78-.78 2.05 0 2.83L4 21.41c.39.39.9.59 1.41.59.51 0 1.02-.2 1.41-.59l7.78-7.78 2.81-2.81c.8-.78.8-2.07 0-2.86zM5.41 20L4 18.59l7.72-7.72 1.47 1.35L5.41 20z\"/>\n",
              "  </svg>\n",
              "      </button>\n",
              "      \n",
              "  <style>\n",
              "    .colab-df-container {\n",
              "      display:flex;\n",
              "      flex-wrap:wrap;\n",
              "      gap: 12px;\n",
              "    }\n",
              "\n",
              "    .colab-df-convert {\n",
              "      background-color: #E8F0FE;\n",
              "      border: none;\n",
              "      border-radius: 50%;\n",
              "      cursor: pointer;\n",
              "      display: none;\n",
              "      fill: #1967D2;\n",
              "      height: 32px;\n",
              "      padding: 0 0 0 0;\n",
              "      width: 32px;\n",
              "    }\n",
              "\n",
              "    .colab-df-convert:hover {\n",
              "      background-color: #E2EBFA;\n",
              "      box-shadow: 0px 1px 2px rgba(60, 64, 67, 0.3), 0px 1px 3px 1px rgba(60, 64, 67, 0.15);\n",
              "      fill: #174EA6;\n",
              "    }\n",
              "\n",
              "    [theme=dark] .colab-df-convert {\n",
              "      background-color: #3B4455;\n",
              "      fill: #D2E3FC;\n",
              "    }\n",
              "\n",
              "    [theme=dark] .colab-df-convert:hover {\n",
              "      background-color: #434B5C;\n",
              "      box-shadow: 0px 1px 3px 1px rgba(0, 0, 0, 0.15);\n",
              "      filter: drop-shadow(0px 1px 2px rgba(0, 0, 0, 0.3));\n",
              "      fill: #FFFFFF;\n",
              "    }\n",
              "  </style>\n",
              "\n",
              "      <script>\n",
              "        const buttonEl =\n",
              "          document.querySelector('#df-79ca8162-bdac-429b-a827-6070c2e03e24 button.colab-df-convert');\n",
              "        buttonEl.style.display =\n",
              "          google.colab.kernel.accessAllowed ? 'block' : 'none';\n",
              "\n",
              "        async function convertToInteractive(key) {\n",
              "          const element = document.querySelector('#df-79ca8162-bdac-429b-a827-6070c2e03e24');\n",
              "          const dataTable =\n",
              "            await google.colab.kernel.invokeFunction('convertToInteractive',\n",
              "                                                     [key], {});\n",
              "          if (!dataTable) return;\n",
              "\n",
              "          const docLinkHtml = 'Like what you see? Visit the ' +\n",
              "            '<a target=\"_blank\" href=https://colab.research.google.com/notebooks/data_table.ipynb>data table notebook</a>'\n",
              "            + ' to learn more about interactive tables.';\n",
              "          element.innerHTML = '';\n",
              "          dataTable['output_type'] = 'display_data';\n",
              "          await google.colab.output.renderOutput(dataTable, element);\n",
              "          const docLink = document.createElement('div');\n",
              "          docLink.innerHTML = docLinkHtml;\n",
              "          element.appendChild(docLink);\n",
              "        }\n",
              "      </script>\n",
              "    </div>\n",
              "  </div>\n",
              "  "
            ]
          },
          "metadata": {},
          "execution_count": 47
        }
      ]
    },
    {
      "cell_type": "code",
      "source": [
        "df6['СписокВредныхФакторов'] = df6['ВредныеФакторы'].apply(lambda x: x.replace('.', 'x'))\n"
      ],
      "metadata": {
        "id": "i1JRW07Nmn6v",
        "colab": {
          "base_uri": "https://localhost:8080/"
        },
        "outputId": "834ce3e9-44b9-4936-b8b3-557e65e4126d"
      },
      "execution_count": 48,
      "outputs": [
        {
          "output_type": "stream",
          "name": "stderr",
          "text": [
            "<ipython-input-48-60fbbc282f2a>:1: SettingWithCopyWarning: \n",
            "A value is trying to be set on a copy of a slice from a DataFrame.\n",
            "Try using .loc[row_indexer,col_indexer] = value instead\n",
            "\n",
            "See the caveats in the documentation: https://pandas.pydata.org/pandas-docs/stable/user_guide/indexing.html#returning-a-view-versus-a-copy\n",
            "  df6['СписокВредныхФакторов'] = df6['ВредныеФакторы'].apply(lambda x: x.replace('.', 'x'))\n"
          ]
        }
      ]
    },
    {
      "cell_type": "code",
      "source": [
        "df6"
      ],
      "metadata": {
        "colab": {
          "base_uri": "https://localhost:8080/",
          "height": 423
        },
        "id": "XKaiOtdcm1Is",
        "outputId": "2bd30a1b-15e6-459a-db2a-59ce3b913b52"
      },
      "execution_count": 49,
      "outputs": [
        {
          "output_type": "execute_result",
          "data": {
            "text/plain": [
              "                                   Клиент КлиентДатаРождения  \\\n",
              "0    11ba74dd-5503-11e8-80ce-0cc47aab8067         1972-03-05   \n",
              "1    11ba74df-5503-11e8-80ce-0cc47aab8067         1988-09-16   \n",
              "2    5f637b0b-dd0e-11ec-8100-0cc47aab8067         2002-05-26   \n",
              "3    11ba74e4-5503-11e8-80ce-0cc47aab8067         1968-03-16   \n",
              "4    7afbc5e9-0c2d-11ea-80d3-0cc47aab8067         1974-06-17   \n",
              "..                                    ...                ...   \n",
              "97   116fe69a-455f-11ed-8107-0cc47aab8067         1982-07-20   \n",
              "98   7c2eb069-43ef-11e6-8349-b8975a94e496         1956-05-01   \n",
              "99   116fe695-455f-11ed-8107-0cc47aab8067         1965-03-25   \n",
              "100  116fe69f-455f-11ed-8107-0cc47aab8067         1969-10-18   \n",
              "101  5789f036-5727-11ec-80fc-0cc47aab8067         1976-09-28   \n",
              "\n",
              "                   Профессия       ВредныеФакторы СписокВредныхФакторов  \n",
              "0        Мойщик ВС 2 разряда          5.1,6.1,6.2           5x1,6x1,6x2  \n",
              "1    Кладовщик-комплектовщик                5.1,6                 5x1,6  \n",
              "2    Кладовщик комплектовщик                4.2.5                 4x2x5  \n",
              "3         Мойщик службы БОВС          5.1,6.1,6.2           5x1,6x1,6x2  \n",
              "4         Мойщик службы БОВС          5.1,6.1,6.2           5x1,6x1,6x2  \n",
              "..                       ...                  ...                   ...  \n",
              "97                 Кладовщик            4.2.5,6.2             4x2x5,6x2  \n",
              "98           Главный инженер            4.1,4.2.5             4x1,4x2x5  \n",
              "99       Слесарь - ремонтник  4.1,4.7,4.8,5.1,6.2   4x1,4x7,4x8,5x1,6x2  \n",
              "100         Переработчик РАО                  4.1                   4x1  \n",
              "101                   Техник            9,6.1,6.2             9,6x1,6x2  \n",
              "\n",
              "[100 rows x 5 columns]"
            ],
            "text/html": [
              "\n",
              "  <div id=\"df-df0dff78-de3e-45e5-8c4a-7e362df60d97\">\n",
              "    <div class=\"colab-df-container\">\n",
              "      <div>\n",
              "<style scoped>\n",
              "    .dataframe tbody tr th:only-of-type {\n",
              "        vertical-align: middle;\n",
              "    }\n",
              "\n",
              "    .dataframe tbody tr th {\n",
              "        vertical-align: top;\n",
              "    }\n",
              "\n",
              "    .dataframe thead th {\n",
              "        text-align: right;\n",
              "    }\n",
              "</style>\n",
              "<table border=\"1\" class=\"dataframe\">\n",
              "  <thead>\n",
              "    <tr style=\"text-align: right;\">\n",
              "      <th></th>\n",
              "      <th>Клиент</th>\n",
              "      <th>КлиентДатаРождения</th>\n",
              "      <th>Профессия</th>\n",
              "      <th>ВредныеФакторы</th>\n",
              "      <th>СписокВредныхФакторов</th>\n",
              "    </tr>\n",
              "  </thead>\n",
              "  <tbody>\n",
              "    <tr>\n",
              "      <th>0</th>\n",
              "      <td>11ba74dd-5503-11e8-80ce-0cc47aab8067</td>\n",
              "      <td>1972-03-05</td>\n",
              "      <td>Мойщик ВС 2 разряда</td>\n",
              "      <td>5.1,6.1,6.2</td>\n",
              "      <td>5x1,6x1,6x2</td>\n",
              "    </tr>\n",
              "    <tr>\n",
              "      <th>1</th>\n",
              "      <td>11ba74df-5503-11e8-80ce-0cc47aab8067</td>\n",
              "      <td>1988-09-16</td>\n",
              "      <td>Кладовщик-комплектовщик</td>\n",
              "      <td>5.1,6</td>\n",
              "      <td>5x1,6</td>\n",
              "    </tr>\n",
              "    <tr>\n",
              "      <th>2</th>\n",
              "      <td>5f637b0b-dd0e-11ec-8100-0cc47aab8067</td>\n",
              "      <td>2002-05-26</td>\n",
              "      <td>Кладовщик комплектовщик</td>\n",
              "      <td>4.2.5</td>\n",
              "      <td>4x2x5</td>\n",
              "    </tr>\n",
              "    <tr>\n",
              "      <th>3</th>\n",
              "      <td>11ba74e4-5503-11e8-80ce-0cc47aab8067</td>\n",
              "      <td>1968-03-16</td>\n",
              "      <td>Мойщик службы БОВС</td>\n",
              "      <td>5.1,6.1,6.2</td>\n",
              "      <td>5x1,6x1,6x2</td>\n",
              "    </tr>\n",
              "    <tr>\n",
              "      <th>4</th>\n",
              "      <td>7afbc5e9-0c2d-11ea-80d3-0cc47aab8067</td>\n",
              "      <td>1974-06-17</td>\n",
              "      <td>Мойщик службы БОВС</td>\n",
              "      <td>5.1,6.1,6.2</td>\n",
              "      <td>5x1,6x1,6x2</td>\n",
              "    </tr>\n",
              "    <tr>\n",
              "      <th>...</th>\n",
              "      <td>...</td>\n",
              "      <td>...</td>\n",
              "      <td>...</td>\n",
              "      <td>...</td>\n",
              "      <td>...</td>\n",
              "    </tr>\n",
              "    <tr>\n",
              "      <th>97</th>\n",
              "      <td>116fe69a-455f-11ed-8107-0cc47aab8067</td>\n",
              "      <td>1982-07-20</td>\n",
              "      <td>Кладовщик</td>\n",
              "      <td>4.2.5,6.2</td>\n",
              "      <td>4x2x5,6x2</td>\n",
              "    </tr>\n",
              "    <tr>\n",
              "      <th>98</th>\n",
              "      <td>7c2eb069-43ef-11e6-8349-b8975a94e496</td>\n",
              "      <td>1956-05-01</td>\n",
              "      <td>Главный инженер</td>\n",
              "      <td>4.1,4.2.5</td>\n",
              "      <td>4x1,4x2x5</td>\n",
              "    </tr>\n",
              "    <tr>\n",
              "      <th>99</th>\n",
              "      <td>116fe695-455f-11ed-8107-0cc47aab8067</td>\n",
              "      <td>1965-03-25</td>\n",
              "      <td>Слесарь - ремонтник</td>\n",
              "      <td>4.1,4.7,4.8,5.1,6.2</td>\n",
              "      <td>4x1,4x7,4x8,5x1,6x2</td>\n",
              "    </tr>\n",
              "    <tr>\n",
              "      <th>100</th>\n",
              "      <td>116fe69f-455f-11ed-8107-0cc47aab8067</td>\n",
              "      <td>1969-10-18</td>\n",
              "      <td>Переработчик РАО</td>\n",
              "      <td>4.1</td>\n",
              "      <td>4x1</td>\n",
              "    </tr>\n",
              "    <tr>\n",
              "      <th>101</th>\n",
              "      <td>5789f036-5727-11ec-80fc-0cc47aab8067</td>\n",
              "      <td>1976-09-28</td>\n",
              "      <td>Техник</td>\n",
              "      <td>9,6.1,6.2</td>\n",
              "      <td>9,6x1,6x2</td>\n",
              "    </tr>\n",
              "  </tbody>\n",
              "</table>\n",
              "<p>100 rows × 5 columns</p>\n",
              "</div>\n",
              "      <button class=\"colab-df-convert\" onclick=\"convertToInteractive('df-df0dff78-de3e-45e5-8c4a-7e362df60d97')\"\n",
              "              title=\"Convert this dataframe to an interactive table.\"\n",
              "              style=\"display:none;\">\n",
              "        \n",
              "  <svg xmlns=\"http://www.w3.org/2000/svg\" height=\"24px\"viewBox=\"0 0 24 24\"\n",
              "       width=\"24px\">\n",
              "    <path d=\"M0 0h24v24H0V0z\" fill=\"none\"/>\n",
              "    <path d=\"M18.56 5.44l.94 2.06.94-2.06 2.06-.94-2.06-.94-.94-2.06-.94 2.06-2.06.94zm-11 1L8.5 8.5l.94-2.06 2.06-.94-2.06-.94L8.5 2.5l-.94 2.06-2.06.94zm10 10l.94 2.06.94-2.06 2.06-.94-2.06-.94-.94-2.06-.94 2.06-2.06.94z\"/><path d=\"M17.41 7.96l-1.37-1.37c-.4-.4-.92-.59-1.43-.59-.52 0-1.04.2-1.43.59L10.3 9.45l-7.72 7.72c-.78.78-.78 2.05 0 2.83L4 21.41c.39.39.9.59 1.41.59.51 0 1.02-.2 1.41-.59l7.78-7.78 2.81-2.81c.8-.78.8-2.07 0-2.86zM5.41 20L4 18.59l7.72-7.72 1.47 1.35L5.41 20z\"/>\n",
              "  </svg>\n",
              "      </button>\n",
              "      \n",
              "  <style>\n",
              "    .colab-df-container {\n",
              "      display:flex;\n",
              "      flex-wrap:wrap;\n",
              "      gap: 12px;\n",
              "    }\n",
              "\n",
              "    .colab-df-convert {\n",
              "      background-color: #E8F0FE;\n",
              "      border: none;\n",
              "      border-radius: 50%;\n",
              "      cursor: pointer;\n",
              "      display: none;\n",
              "      fill: #1967D2;\n",
              "      height: 32px;\n",
              "      padding: 0 0 0 0;\n",
              "      width: 32px;\n",
              "    }\n",
              "\n",
              "    .colab-df-convert:hover {\n",
              "      background-color: #E2EBFA;\n",
              "      box-shadow: 0px 1px 2px rgba(60, 64, 67, 0.3), 0px 1px 3px 1px rgba(60, 64, 67, 0.15);\n",
              "      fill: #174EA6;\n",
              "    }\n",
              "\n",
              "    [theme=dark] .colab-df-convert {\n",
              "      background-color: #3B4455;\n",
              "      fill: #D2E3FC;\n",
              "    }\n",
              "\n",
              "    [theme=dark] .colab-df-convert:hover {\n",
              "      background-color: #434B5C;\n",
              "      box-shadow: 0px 1px 3px 1px rgba(0, 0, 0, 0.15);\n",
              "      filter: drop-shadow(0px 1px 2px rgba(0, 0, 0, 0.3));\n",
              "      fill: #FFFFFF;\n",
              "    }\n",
              "  </style>\n",
              "\n",
              "      <script>\n",
              "        const buttonEl =\n",
              "          document.querySelector('#df-df0dff78-de3e-45e5-8c4a-7e362df60d97 button.colab-df-convert');\n",
              "        buttonEl.style.display =\n",
              "          google.colab.kernel.accessAllowed ? 'block' : 'none';\n",
              "\n",
              "        async function convertToInteractive(key) {\n",
              "          const element = document.querySelector('#df-df0dff78-de3e-45e5-8c4a-7e362df60d97');\n",
              "          const dataTable =\n",
              "            await google.colab.kernel.invokeFunction('convertToInteractive',\n",
              "                                                     [key], {});\n",
              "          if (!dataTable) return;\n",
              "\n",
              "          const docLinkHtml = 'Like what you see? Visit the ' +\n",
              "            '<a target=\"_blank\" href=https://colab.research.google.com/notebooks/data_table.ipynb>data table notebook</a>'\n",
              "            + ' to learn more about interactive tables.';\n",
              "          element.innerHTML = '';\n",
              "          dataTable['output_type'] = 'display_data';\n",
              "          await google.colab.output.renderOutput(dataTable, element);\n",
              "          const docLink = document.createElement('div');\n",
              "          docLink.innerHTML = docLinkHtml;\n",
              "          element.appendChild(docLink);\n",
              "        }\n",
              "      </script>\n",
              "    </div>\n",
              "  </div>\n",
              "  "
            ]
          },
          "metadata": {},
          "execution_count": 49
        }
      ]
    },
    {
      "cell_type": "code",
      "source": [
        "yTrain = df4['ЗаключениеМК'].replace('ОграниченноГоден', 0).replace('Годен', 1).to_numpy()"
      ],
      "metadata": {
        "id": "j6cuMZG8Ei77"
      },
      "execution_count": 50,
      "outputs": []
    },
    {
      "cell_type": "code",
      "source": [
        "yTrain = yTrain.astype(float)"
      ],
      "metadata": {
        "id": "mW7zbpozFLFD"
      },
      "execution_count": 51,
      "outputs": []
    },
    {
      "cell_type": "code",
      "source": [
        "yTrain"
      ],
      "metadata": {
        "colab": {
          "base_uri": "https://localhost:8080/"
        },
        "id": "dYZxMbT0Vkge",
        "outputId": "ad2ee5b3-f5a4-4d6a-fc3b-0f3adba4f1c0"
      },
      "execution_count": 52,
      "outputs": [
        {
          "output_type": "execute_result",
          "data": {
            "text/plain": [
              "array([0., 1., 1., 1., 1., 1., 1., 1., 1., 1., 0., 1., 0., 1., 1., 1., 1.,\n",
              "       1., 1., 1., 1., 0., 1., 1., 1., 1., 1., 1., 1., 1., 1., 1., 1., 1.,\n",
              "       1., 1., 0., 1., 1., 1., 1., 1., 1., 1., 1., 1., 1., 0., 0., 1., 1.,\n",
              "       1., 1., 1., 1., 1., 1., 1., 1., 1., 1., 1., 1., 1., 1., 1., 1., 1.,\n",
              "       1., 1., 1., 1., 1., 1., 0., 0., 1., 1., 1., 1., 1., 1., 0., 1., 1.,\n",
              "       1., 1., 1., 1., 1., 1., 1., 1., 1., 0., 1., 1., 1., 0., 1.])"
            ]
          },
          "metadata": {},
          "execution_count": 52
        }
      ]
    },
    {
      "cell_type": "code",
      "source": [
        "yTrain.shape"
      ],
      "metadata": {
        "colab": {
          "base_uri": "https://localhost:8080/"
        },
        "id": "90hnBZbpbcAM",
        "outputId": "70e6b6f4-c5f2-422c-867b-6574ad858404"
      },
      "execution_count": 63,
      "outputs": [
        {
          "output_type": "execute_result",
          "data": {
            "text/plain": [
              "(100,)"
            ]
          },
          "metadata": {},
          "execution_count": 63
        }
      ]
    },
    {
      "cell_type": "code",
      "source": [
        "df_ohe = df_ohe.astype(float)"
      ],
      "metadata": {
        "id": "Gc0giEzYCX2z"
      },
      "execution_count": 64,
      "outputs": []
    },
    {
      "cell_type": "code",
      "source": [
        "xTrain01 = df_ohe.to_numpy()"
      ],
      "metadata": {
        "id": "EF1vsE9f3bPx"
      },
      "execution_count": 65,
      "outputs": []
    },
    {
      "cell_type": "code",
      "source": [
        "xTrain01"
      ],
      "metadata": {
        "colab": {
          "base_uri": "https://localhost:8080/"
        },
        "id": "HHCCWZgW3bIa",
        "outputId": "693edf7f-19b1-4f16-aa75-6eb360b593d6"
      },
      "execution_count": 66,
      "outputs": [
        {
          "output_type": "execute_result",
          "data": {
            "text/plain": [
              "array([[1., 0., 0., ..., 0., 0., 0.],\n",
              "       [1., 0., 0., ..., 0., 0., 0.],\n",
              "       [1., 0., 1., ..., 0., 0., 0.],\n",
              "       ...,\n",
              "       [0., 1., 0., ..., 0., 0., 1.],\n",
              "       [0., 1., 0., ..., 0., 0., 0.],\n",
              "       [0., 1., 0., ..., 0., 0., 0.]])"
            ]
          },
          "metadata": {},
          "execution_count": 66
        }
      ]
    },
    {
      "cell_type": "code",
      "source": [
        "xTrain01.shape"
      ],
      "metadata": {
        "colab": {
          "base_uri": "https://localhost:8080/"
        },
        "id": "qWgNMdsv9-rL",
        "outputId": "177ce505-ec6c-45c8-ff89-650c4ace0027"
      },
      "execution_count": 67,
      "outputs": [
        {
          "output_type": "execute_result",
          "data": {
            "text/plain": [
              "(100, 91)"
            ]
          },
          "metadata": {},
          "execution_count": 67
        }
      ]
    },
    {
      "cell_type": "code",
      "source": [
        "# Вытаскиваем факторы для выборки\n",
        "xTrainFactor = df6['СписокВредныхФакторов'] \n",
        "print(xTrainFactor[10]) # пример  "
      ],
      "metadata": {
        "colab": {
          "base_uri": "https://localhost:8080/"
        },
        "id": "RIfvSRj2rCV4",
        "outputId": "5369a4b2-8a7e-47b9-cc66-b3edc287b1d9"
      },
      "execution_count": 68,
      "outputs": [
        {
          "output_type": "stream",
          "name": "stdout",
          "text": [
            "5x1\n"
          ]
        }
      ]
    },
    {
      "cell_type": "code",
      "source": [
        "#Преобразовываем текстовые данные в числовые/векторные для обучения нейросетью\n",
        "maxWordsCount = 10000 \n",
        "tokenizer = Tokenizer(num_words=maxWordsCount, filters='!\"#$%&()*+,-–—./:;<=>?@[\\\\]^_`{|}~\\t\\n\\xa0', lower=True, split=' ', oov_token='unknown', char_level=False)\n",
        "tokenizer.fit_on_texts(xTrainFactor) \n",
        "items = list(tokenizer.word_index.items())  "
      ],
      "metadata": {
        "id": "s1L1k4OzzeUf"
      },
      "execution_count": 116,
      "outputs": []
    },
    {
      "cell_type": "code",
      "source": [
        "#Преобразовываем текст в последовательность индексов согласно частотному словарю\n",
        "xTrainFactorIndexes = tokenizer.texts_to_sequences(xTrainFactor) "
      ],
      "metadata": {
        "id": "1nAcq6sjzeM8"
      },
      "execution_count": 117,
      "outputs": []
    },
    {
      "cell_type": "code",
      "source": [
        "# Преобразовываем полученные выборки из последовательности индексов в матрицы нулей и единиц по принципу Bag of Words\n",
        "xTrainFactor01 = tokenizer.sequences_to_matrix(xTrainFactorIndexes) \n",
        "print(xTrainFactor01.shape)                                      \n",
        "print(xTrainFactor01[0][0:100])       "
      ],
      "metadata": {
        "colab": {
          "base_uri": "https://localhost:8080/"
        },
        "id": "7lDFu5razeF4",
        "outputId": "73b6450a-e0cf-4c91-fa88-061fe2a71c15"
      },
      "execution_count": 71,
      "outputs": [
        {
          "output_type": "stream",
          "name": "stdout",
          "text": [
            "(100, 10000)\n",
            "[0. 0. 1. 1. 1. 0. 0. 0. 0. 0. 0. 0. 0. 0. 0. 0. 0. 0. 0. 0. 0. 0. 0. 0.\n",
            " 0. 0. 0. 0. 0. 0. 0. 0. 0. 0. 0. 0. 0. 0. 0. 0. 0. 0. 0. 0. 0. 0. 0. 0.\n",
            " 0. 0. 0. 0. 0. 0. 0. 0. 0. 0. 0. 0. 0. 0. 0. 0. 0. 0. 0. 0. 0. 0. 0. 0.\n",
            " 0. 0. 0. 0. 0. 0. 0. 0. 0. 0. 0. 0. 0. 0. 0. 0. 0. 0. 0. 0. 0. 0. 0. 0.\n",
            " 0. 0. 0. 0.]\n"
          ]
        }
      ]
    },
    {
      "cell_type": "code",
      "source": [
        "n = 0\n",
        "print(xTrainFactor[n])       \n",
        "print(xTrainFactorIndexes[n]) "
      ],
      "metadata": {
        "colab": {
          "base_uri": "https://localhost:8080/"
        },
        "id": "oMEcOPg3zd7v",
        "outputId": "5c25bb70-735e-48be-ee7a-cbd53e9651bc"
      },
      "execution_count": 72,
      "outputs": [
        {
          "output_type": "stream",
          "name": "stdout",
          "text": [
            "5x1,6x1,6x2\n",
            "[2, 4, 3]\n"
          ]
        }
      ]
    },
    {
      "cell_type": "code",
      "source": [
        "xTrainFactor01.shape"
      ],
      "metadata": {
        "colab": {
          "base_uri": "https://localhost:8080/"
        },
        "id": "awCLSTCorCNs",
        "outputId": "94c55b1b-1967-413c-805d-9a9d61ae6f4c"
      },
      "execution_count": 73,
      "outputs": [
        {
          "output_type": "execute_result",
          "data": {
            "text/plain": [
              "(100, 10000)"
            ]
          },
          "metadata": {},
          "execution_count": 73
        }
      ]
    },
    {
      "cell_type": "code",
      "source": [
        "xTrainTProf = df6['Профессия'] \n",
        "print(xTrainTProf[10]) "
      ],
      "metadata": {
        "colab": {
          "base_uri": "https://localhost:8080/"
        },
        "id": "l379qnZkrCFE",
        "outputId": "7c5a5c4a-d7a9-4ca9-ea91-0b176cd54d87"
      },
      "execution_count": 75,
      "outputs": [
        {
          "output_type": "stream",
          "name": "stdout",
          "text": [
            "Комплектовщик\n"
          ]
        }
      ]
    },
    {
      "cell_type": "code",
      "source": [
        "#Преобразовываем текстовые данные в числовые/векторные для обучения нейросетью\n",
        "maxWordsCount = 10000 \n",
        "tokenizer = Tokenizer(num_words=maxWordsCount, filters='!\"#$%&()*+,-–—./:;<=>?@[\\\\]^_`{|}~\\t\\n\\xa0', lower=True, split=' ', oov_token='unknown', char_level=False)\n",
        "tokenizer.fit_on_texts(xTrainTProf) \n",
        "items = list(tokenizer.word_index.items())  "
      ],
      "metadata": {
        "id": "b_KDHXSTrB60"
      },
      "execution_count": 76,
      "outputs": []
    },
    {
      "cell_type": "code",
      "source": [
        "#Преобразовываем текст в последовательность индексов согласно частотному словарю\n",
        "xTrainProfIndexes = tokenizer.texts_to_sequences(xTrainTProf) "
      ],
      "metadata": {
        "id": "MEVrdTlFrDr1"
      },
      "execution_count": 77,
      "outputs": []
    },
    {
      "cell_type": "code",
      "source": [
        "#Преобразовываем полученные выборки из последовательности индексов в матрицы нулей и единиц по принципу Bag of Words\n",
        "xTrainProf01 = tokenizer.sequences_to_matrix(xTrainProfIndexes) \n",
        "print(xTrainProf01.shape)                                       \n",
        "print(xTrainProf01[0][0:100])       "
      ],
      "metadata": {
        "id": "Mv6H-1MUrUu0",
        "colab": {
          "base_uri": "https://localhost:8080/"
        },
        "outputId": "464b1879-ec3b-495a-e535-ce9a71e552e3"
      },
      "execution_count": 78,
      "outputs": [
        {
          "output_type": "stream",
          "name": "stdout",
          "text": [
            "(100, 10000)\n",
            "[0. 0. 1. 0. 0. 0. 1. 0. 0. 0. 0. 0. 0. 0. 0. 0. 0. 0. 0. 1. 1. 0. 0. 0.\n",
            " 0. 0. 0. 0. 0. 0. 0. 0. 0. 0. 0. 0. 0. 0. 0. 0. 0. 0. 0. 0. 0. 0. 0. 0.\n",
            " 0. 0. 0. 0. 0. 0. 0. 0. 0. 0. 0. 0. 0. 0. 0. 0. 0. 0. 0. 0. 0. 0. 0. 0.\n",
            " 0. 0. 0. 0. 0. 0. 0. 0. 0. 0. 0. 0. 0. 0. 0. 0. 0. 0. 0. 0. 0. 0. 0. 0.\n",
            " 0. 0. 0. 0.]\n"
          ]
        }
      ]
    },
    {
      "cell_type": "code",
      "source": [
        "n = 0\n",
        "print(xTrainTProf[n])       \n",
        "print(xTrainProfIndexes[n]) "
      ],
      "metadata": {
        "colab": {
          "base_uri": "https://localhost:8080/"
        },
        "id": "XO4wA9y_rUpk",
        "outputId": "5d283878-ee77-457d-f70b-4925095ca0ce"
      },
      "execution_count": 79,
      "outputs": [
        {
          "output_type": "stream",
          "name": "stdout",
          "text": [
            "Мойщик ВС 2 разряда\n",
            "[6, 19, 20, 2]\n"
          ]
        }
      ]
    },
    {
      "cell_type": "code",
      "source": [
        "xTrainProf01.shape"
      ],
      "metadata": {
        "colab": {
          "base_uri": "https://localhost:8080/"
        },
        "id": "rKgRy4J6rUks",
        "outputId": "7cea5ec1-630a-41a5-fef6-ba84eb3713bb"
      },
      "execution_count": 80,
      "outputs": [
        {
          "output_type": "execute_result",
          "data": {
            "text/plain": [
              "(100, 10000)"
            ]
          },
          "metadata": {},
          "execution_count": 80
        }
      ]
    },
    {
      "cell_type": "code",
      "source": [
        "# Визуальная оценка ошибки на обучающей и проверочной выборках\n",
        "\n",
        "def compare_sharp_loss (history, x_size, y_size):\n",
        "  \n",
        "  plt.figure(figsize=(x_size,y_size))\n",
        "  plt.plot(history.history['loss'], \n",
        "         label='Ошибка на обучающей выборке')\n",
        "  \n",
        "  plt.plot(history.history['val_loss'], \n",
        "         label='Ошибка проверочном наборе')\n",
        "  plt.xlabel('Эпоха обучения')\n",
        "  plt.ylabel('Средняя ошибка')\n",
        "  plt.legend()\n",
        "  plt.show()"
      ],
      "metadata": {
        "id": "7jG1mAex77Tw"
      },
      "execution_count": 82,
      "outputs": []
    },
    {
      "cell_type": "code",
      "source": [
        "x_train, x_test, x_train_text1, x_test_text1, x_train_text2, x_test_text2, y_train, y_test = train_test_split(xTrain01,\n",
        "                                                                                                              xTrainProf01, \n",
        "                                                                                                              xTrainFactor01,\n",
        "                                                                                                              yTrain, \n",
        "                                                                                                              test_size=0.2,\n",
        "                                                                                                              shuffle = False)"
      ],
      "metadata": {
        "id": "P8r0YRo9PNA9"
      },
      "execution_count": 83,
      "outputs": []
    },
    {
      "cell_type": "markdown",
      "source": [
        "#Создание архитектуры, обучение, вывод графиков"
      ],
      "metadata": {
        "id": "w11Bn13dqrx7"
      }
    },
    {
      "cell_type": "code",
      "source": [
        "input1 = Input((x_train.shape[1],))\n",
        "input2 = Input((x_train_text1.shape[1],))\n",
        "input3 = Input((x_train_text2.shape[1],))"
      ],
      "metadata": {
        "id": "xeKVsLk-QZcv"
      },
      "execution_count": 84,
      "outputs": []
    },
    {
      "cell_type": "code",
      "source": [
        "import gc \n",
        "gc.collect()"
      ],
      "metadata": {
        "colab": {
          "base_uri": "https://localhost:8080/"
        },
        "id": "2qXg20mIKHG-",
        "outputId": "f4c561f7-1b16-4c43-f838-337ead76356e"
      },
      "execution_count": 98,
      "outputs": [
        {
          "output_type": "execute_result",
          "data": {
            "text/plain": [
              "0"
            ]
          },
          "metadata": {},
          "execution_count": 98
        }
      ]
    },
    {
      "cell_type": "code",
      "source": [
        "x1 = BatchNormalization()(input1) \n",
        "x1 = Dense(1024, activation='relu') (x1)\n",
        "x1 = BatchNormalization()(x1)\n",
        "x1 = Dropout(0.3)(x1)\n",
        "x1 = Dense(768, activation='sigmoid')(x1)\n",
        "x1 = BatchNormalization()(x1)\n",
        "x1 = Dropout(0.3)(x1)\n",
        "x1 = Dense(512, activation='sigmoid')(x1)\n",
        "\n",
        "x2 = Dense(100, activation='sigmoid') (input2)\n",
        "x2 = BatchNormalization()(x2)\n",
        "x2 = Dropout(0.3)(x2)\n",
        "x2 = Dense(100, activation='hard_sigmoid') (x2)\n",
        "\n",
        "\n",
        "x3 = Dense(100, activation='sigmoid') (input3)\n",
        "x3 = BatchNormalization()(x3)\n",
        "x3 = Dropout(0.3)(x3)\n",
        "x3 = Dense(100, activation='hard_sigmoid') (x3)\n",
        "\n",
        "x = concatenate([x1, x2, x3])\n",
        "\n",
        "x = Dense(100, activation='relu')(x)\n",
        "x = BatchNormalization()(x)\n",
        "x = Dropout(0.3)(x)\n",
        "x = Dense(50, activation='sigmoid')(x)\n",
        "x = Dropout(0.3)(x)\n",
        "x = Dense(1, activation='linear')(x)\n",
        "\n",
        "model = Model((input1, input2, input3), x) \n",
        "\n",
        "model.compile(optimizer=Adam(learning_rate=0.0001), loss='mse', metrics=['mae'])\n",
        "\n",
        "history = model.fit((x_train, x_train_text1, x_train_text2), \n",
        "                    y_train, \n",
        "                    epochs= 100, \n",
        "                    validation_split = 0.3,\n",
        "                    verbose=1, shuffle=True)\n",
        "\n",
        "compare_sharp_loss(history,10,4)                \n"
      ],
      "metadata": {
        "colab": {
          "base_uri": "https://localhost:8080/",
          "height": 1000
        },
        "id": "0QjrBDf-yAWh",
        "outputId": "79d1bd24-590d-4925-8153-ed3707cbb780"
      },
      "execution_count": 99,
      "outputs": [
        {
          "output_type": "stream",
          "name": "stdout",
          "text": [
            "Epoch 1/100\n",
            "2/2 [==============================] - 6s 463ms/step - loss: 0.5489 - mae: 0.5933 - val_loss: 0.4060 - val_mae: 0.5741\n",
            "Epoch 2/100\n",
            "2/2 [==============================] - 0s 116ms/step - loss: 0.4279 - mae: 0.5099 - val_loss: 0.3932 - val_mae: 0.5628\n",
            "Epoch 3/100\n",
            "2/2 [==============================] - 0s 108ms/step - loss: 0.4649 - mae: 0.5004 - val_loss: 0.3858 - val_mae: 0.5561\n",
            "Epoch 4/100\n",
            "2/2 [==============================] - 0s 111ms/step - loss: 0.3780 - mae: 0.4815 - val_loss: 0.3753 - val_mae: 0.5467\n",
            "Epoch 5/100\n",
            "2/2 [==============================] - 0s 105ms/step - loss: 0.4767 - mae: 0.5380 - val_loss: 0.3615 - val_mae: 0.5339\n",
            "Epoch 6/100\n",
            "2/2 [==============================] - 0s 110ms/step - loss: 0.4293 - mae: 0.4940 - val_loss: 0.3473 - val_mae: 0.5204\n",
            "Epoch 7/100\n",
            "2/2 [==============================] - 0s 105ms/step - loss: 0.3449 - mae: 0.4891 - val_loss: 0.3372 - val_mae: 0.5107\n",
            "Epoch 8/100\n",
            "2/2 [==============================] - 0s 112ms/step - loss: 0.4280 - mae: 0.5286 - val_loss: 0.3272 - val_mae: 0.5008\n",
            "Epoch 9/100\n",
            "2/2 [==============================] - 0s 136ms/step - loss: 0.3992 - mae: 0.5134 - val_loss: 0.3164 - val_mae: 0.4899\n",
            "Epoch 10/100\n",
            "2/2 [==============================] - 0s 102ms/step - loss: 0.4332 - mae: 0.5062 - val_loss: 0.3070 - val_mae: 0.4802\n",
            "Epoch 11/100\n",
            "2/2 [==============================] - 0s 101ms/step - loss: 0.4779 - mae: 0.5463 - val_loss: 0.2993 - val_mae: 0.4722\n",
            "Epoch 12/100\n",
            "2/2 [==============================] - 0s 114ms/step - loss: 0.3381 - mae: 0.4755 - val_loss: 0.2923 - val_mae: 0.4647\n",
            "Epoch 13/100\n",
            "2/2 [==============================] - 0s 104ms/step - loss: 0.4890 - mae: 0.5689 - val_loss: 0.2845 - val_mae: 0.4563\n",
            "Epoch 14/100\n",
            "2/2 [==============================] - 0s 122ms/step - loss: 0.3283 - mae: 0.4512 - val_loss: 0.2782 - val_mae: 0.4493\n",
            "Epoch 15/100\n",
            "2/2 [==============================] - 0s 109ms/step - loss: 0.4695 - mae: 0.5653 - val_loss: 0.2702 - val_mae: 0.4403\n",
            "Epoch 16/100\n",
            "2/2 [==============================] - 0s 112ms/step - loss: 0.4714 - mae: 0.5682 - val_loss: 0.2615 - val_mae: 0.4304\n",
            "Epoch 17/100\n",
            "2/2 [==============================] - 0s 106ms/step - loss: 0.3316 - mae: 0.4618 - val_loss: 0.2559 - val_mae: 0.4239\n",
            "Epoch 18/100\n",
            "2/2 [==============================] - 0s 104ms/step - loss: 0.2019 - mae: 0.3640 - val_loss: 0.2499 - val_mae: 0.4167\n",
            "Epoch 19/100\n",
            "2/2 [==============================] - 0s 109ms/step - loss: 0.3929 - mae: 0.5042 - val_loss: 0.2440 - val_mae: 0.4096\n",
            "Epoch 20/100\n",
            "2/2 [==============================] - 0s 110ms/step - loss: 0.4085 - mae: 0.5299 - val_loss: 0.2400 - val_mae: 0.4049\n",
            "Epoch 21/100\n",
            "2/2 [==============================] - 0s 94ms/step - loss: 0.2632 - mae: 0.4155 - val_loss: 0.2377 - val_mae: 0.4020\n",
            "Epoch 22/100\n",
            "2/2 [==============================] - 0s 84ms/step - loss: 0.2857 - mae: 0.4073 - val_loss: 0.2343 - val_mae: 0.3979\n",
            "Epoch 23/100\n",
            "2/2 [==============================] - 0s 89ms/step - loss: 0.3825 - mae: 0.5164 - val_loss: 0.2300 - val_mae: 0.3925\n",
            "Epoch 24/100\n",
            "2/2 [==============================] - 0s 99ms/step - loss: 0.3281 - mae: 0.4623 - val_loss: 0.2252 - val_mae: 0.3864\n",
            "Epoch 25/100\n",
            "2/2 [==============================] - 0s 91ms/step - loss: 0.3971 - mae: 0.5140 - val_loss: 0.2180 - val_mae: 0.3771\n",
            "Epoch 26/100\n",
            "2/2 [==============================] - 0s 93ms/step - loss: 0.3505 - mae: 0.4860 - val_loss: 0.2108 - val_mae: 0.3674\n",
            "Epoch 27/100\n",
            "2/2 [==============================] - 0s 110ms/step - loss: 0.3693 - mae: 0.4966 - val_loss: 0.2055 - val_mae: 0.3601\n",
            "Epoch 28/100\n",
            "2/2 [==============================] - 0s 120ms/step - loss: 0.4340 - mae: 0.5122 - val_loss: 0.1996 - val_mae: 0.3518\n",
            "Epoch 29/100\n",
            "2/2 [==============================] - 0s 111ms/step - loss: 0.2874 - mae: 0.4476 - val_loss: 0.1955 - val_mae: 0.3461\n",
            "Epoch 30/100\n",
            "2/2 [==============================] - 0s 117ms/step - loss: 0.3992 - mae: 0.5173 - val_loss: 0.1918 - val_mae: 0.3407\n",
            "Epoch 31/100\n",
            "2/2 [==============================] - 0s 111ms/step - loss: 0.2947 - mae: 0.4437 - val_loss: 0.1871 - val_mae: 0.3338\n",
            "Epoch 32/100\n",
            "2/2 [==============================] - 0s 111ms/step - loss: 0.2748 - mae: 0.4329 - val_loss: 0.1812 - val_mae: 0.3249\n",
            "Epoch 33/100\n",
            "2/2 [==============================] - 0s 84ms/step - loss: 0.2797 - mae: 0.4350 - val_loss: 0.1750 - val_mae: 0.3151\n",
            "Epoch 34/100\n",
            "2/2 [==============================] - 0s 90ms/step - loss: 0.3594 - mae: 0.4694 - val_loss: 0.1706 - val_mae: 0.3079\n",
            "Epoch 35/100\n",
            "2/2 [==============================] - 0s 84ms/step - loss: 0.3453 - mae: 0.4667 - val_loss: 0.1667 - val_mae: 0.3014\n",
            "Epoch 36/100\n",
            "2/2 [==============================] - 0s 80ms/step - loss: 0.3129 - mae: 0.4319 - val_loss: 0.1627 - val_mae: 0.2944\n",
            "Epoch 37/100\n",
            "2/2 [==============================] - 0s 81ms/step - loss: 0.2981 - mae: 0.4525 - val_loss: 0.1578 - val_mae: 0.2857\n",
            "Epoch 38/100\n",
            "2/2 [==============================] - 0s 93ms/step - loss: 0.2789 - mae: 0.4502 - val_loss: 0.1537 - val_mae: 0.2782\n",
            "Epoch 39/100\n",
            "2/2 [==============================] - 0s 85ms/step - loss: 0.3405 - mae: 0.4782 - val_loss: 0.1499 - val_mae: 0.2714\n",
            "Epoch 40/100\n",
            "2/2 [==============================] - 0s 103ms/step - loss: 0.2758 - mae: 0.4132 - val_loss: 0.1451 - val_mae: 0.2624\n",
            "Epoch 41/100\n",
            "2/2 [==============================] - 0s 98ms/step - loss: 0.2500 - mae: 0.3998 - val_loss: 0.1411 - val_mae: 0.2548\n",
            "Epoch 42/100\n",
            "2/2 [==============================] - 0s 103ms/step - loss: 0.4216 - mae: 0.5153 - val_loss: 0.1369 - val_mae: 0.2465\n",
            "Epoch 43/100\n",
            "2/2 [==============================] - 0s 103ms/step - loss: 0.3913 - mae: 0.5267 - val_loss: 0.1330 - val_mae: 0.2384\n",
            "Epoch 44/100\n",
            "2/2 [==============================] - 0s 108ms/step - loss: 0.2324 - mae: 0.3789 - val_loss: 0.1295 - val_mae: 0.2310\n",
            "Epoch 45/100\n",
            "2/2 [==============================] - 0s 167ms/step - loss: 0.2532 - mae: 0.4086 - val_loss: 0.1270 - val_mae: 0.2254\n",
            "Epoch 46/100\n",
            "2/2 [==============================] - 0s 121ms/step - loss: 0.2755 - mae: 0.4270 - val_loss: 0.1252 - val_mae: 0.2215\n",
            "Epoch 47/100\n",
            "2/2 [==============================] - 0s 127ms/step - loss: 0.3627 - mae: 0.4639 - val_loss: 0.1235 - val_mae: 0.2176\n",
            "Epoch 48/100\n",
            "2/2 [==============================] - 0s 131ms/step - loss: 0.2688 - mae: 0.4469 - val_loss: 0.1211 - val_mae: 0.2121\n",
            "Epoch 49/100\n",
            "2/2 [==============================] - 0s 131ms/step - loss: 0.3488 - mae: 0.4953 - val_loss: 0.1185 - val_mae: 0.2057\n",
            "Epoch 50/100\n",
            "2/2 [==============================] - 0s 125ms/step - loss: 0.2598 - mae: 0.4083 - val_loss: 0.1159 - val_mae: 0.1991\n",
            "Epoch 51/100\n",
            "2/2 [==============================] - 0s 189ms/step - loss: 0.4718 - mae: 0.5463 - val_loss: 0.1155 - val_mae: 0.1972\n",
            "Epoch 52/100\n",
            "2/2 [==============================] - 0s 146ms/step - loss: 0.4380 - mae: 0.5196 - val_loss: 0.1143 - val_mae: 0.1940\n",
            "Epoch 53/100\n",
            "2/2 [==============================] - 0s 174ms/step - loss: 0.3811 - mae: 0.5049 - val_loss: 0.1130 - val_mae: 0.1907\n",
            "Epoch 54/100\n",
            "2/2 [==============================] - 0s 166ms/step - loss: 0.3900 - mae: 0.5159 - val_loss: 0.1130 - val_mae: 0.1911\n",
            "Epoch 55/100\n",
            "2/2 [==============================] - 0s 141ms/step - loss: 0.2501 - mae: 0.4181 - val_loss: 0.1129 - val_mae: 0.1916\n",
            "Epoch 56/100\n",
            "2/2 [==============================] - 0s 132ms/step - loss: 0.3115 - mae: 0.4538 - val_loss: 0.1126 - val_mae: 0.1913\n",
            "Epoch 57/100\n",
            "2/2 [==============================] - 0s 130ms/step - loss: 0.2715 - mae: 0.4266 - val_loss: 0.1135 - val_mae: 0.1939\n",
            "Epoch 58/100\n",
            "2/2 [==============================] - 0s 137ms/step - loss: 0.3080 - mae: 0.4332 - val_loss: 0.1135 - val_mae: 0.1944\n",
            "Epoch 59/100\n",
            "2/2 [==============================] - 0s 150ms/step - loss: 0.3853 - mae: 0.4797 - val_loss: 0.1131 - val_mae: 0.1934\n",
            "Epoch 60/100\n",
            "2/2 [==============================] - 0s 142ms/step - loss: 0.3087 - mae: 0.4258 - val_loss: 0.1118 - val_mae: 0.1899\n",
            "Epoch 61/100\n",
            "2/2 [==============================] - 0s 119ms/step - loss: 0.2686 - mae: 0.3991 - val_loss: 0.1101 - val_mae: 0.1849\n",
            "Epoch 62/100\n",
            "2/2 [==============================] - 0s 139ms/step - loss: 0.2398 - mae: 0.4012 - val_loss: 0.1090 - val_mae: 0.1815\n",
            "Epoch 63/100\n",
            "2/2 [==============================] - 0s 143ms/step - loss: 0.4090 - mae: 0.4980 - val_loss: 0.1075 - val_mae: 0.1773\n",
            "Epoch 64/100\n",
            "2/2 [==============================] - 0s 169ms/step - loss: 0.3066 - mae: 0.4463 - val_loss: 0.1066 - val_mae: 0.1746\n",
            "Epoch 65/100\n",
            "2/2 [==============================] - 0s 102ms/step - loss: 0.2655 - mae: 0.4042 - val_loss: 0.1079 - val_mae: 0.1781\n",
            "Epoch 66/100\n",
            "2/2 [==============================] - 0s 115ms/step - loss: 0.2615 - mae: 0.3998 - val_loss: 0.1090 - val_mae: 0.1807\n",
            "Epoch 67/100\n",
            "2/2 [==============================] - 0s 103ms/step - loss: 0.2977 - mae: 0.4276 - val_loss: 0.1097 - val_mae: 0.1828\n",
            "Epoch 68/100\n",
            "2/2 [==============================] - 0s 99ms/step - loss: 0.2465 - mae: 0.3962 - val_loss: 0.1112 - val_mae: 0.1867\n",
            "Epoch 69/100\n",
            "2/2 [==============================] - 0s 82ms/step - loss: 0.2829 - mae: 0.4332 - val_loss: 0.1123 - val_mae: 0.1898\n",
            "Epoch 70/100\n",
            "2/2 [==============================] - 0s 93ms/step - loss: 0.2552 - mae: 0.3739 - val_loss: 0.1142 - val_mae: 0.1950\n",
            "Epoch 71/100\n",
            "2/2 [==============================] - 0s 107ms/step - loss: 0.2777 - mae: 0.4086 - val_loss: 0.1148 - val_mae: 0.1967\n",
            "Epoch 72/100\n",
            "2/2 [==============================] - 0s 87ms/step - loss: 0.4009 - mae: 0.5113 - val_loss: 0.1147 - val_mae: 0.1967\n",
            "Epoch 73/100\n",
            "2/2 [==============================] - 0s 92ms/step - loss: 0.4279 - mae: 0.5162 - val_loss: 0.1162 - val_mae: 0.2011\n",
            "Epoch 74/100\n",
            "2/2 [==============================] - 0s 88ms/step - loss: 0.3454 - mae: 0.4637 - val_loss: 0.1160 - val_mae: 0.2010\n",
            "Epoch 75/100\n",
            "2/2 [==============================] - 0s 99ms/step - loss: 0.2515 - mae: 0.4255 - val_loss: 0.1155 - val_mae: 0.1996\n",
            "Epoch 76/100\n",
            "2/2 [==============================] - 0s 132ms/step - loss: 0.4472 - mae: 0.5195 - val_loss: 0.1136 - val_mae: 0.1950\n",
            "Epoch 77/100\n",
            "2/2 [==============================] - 0s 108ms/step - loss: 0.2717 - mae: 0.4187 - val_loss: 0.1115 - val_mae: 0.1897\n",
            "Epoch 78/100\n",
            "2/2 [==============================] - 0s 111ms/step - loss: 0.3407 - mae: 0.4384 - val_loss: 0.1096 - val_mae: 0.1845\n",
            "Epoch 79/100\n",
            "2/2 [==============================] - 0s 99ms/step - loss: 0.2528 - mae: 0.3993 - val_loss: 0.1061 - val_mae: 0.1750\n",
            "Epoch 80/100\n",
            "2/2 [==============================] - 0s 108ms/step - loss: 0.3027 - mae: 0.4624 - val_loss: 0.1033 - val_mae: 0.1677\n",
            "Epoch 81/100\n",
            "2/2 [==============================] - 0s 82ms/step - loss: 0.3161 - mae: 0.4327 - val_loss: 0.0999 - val_mae: 0.1587\n",
            "Epoch 82/100\n",
            "2/2 [==============================] - 0s 113ms/step - loss: 0.3583 - mae: 0.4599 - val_loss: 0.0970 - val_mae: 0.1507\n",
            "Epoch 83/100\n",
            "2/2 [==============================] - 0s 85ms/step - loss: 0.2536 - mae: 0.4085 - val_loss: 0.0939 - val_mae: 0.1417\n",
            "Epoch 84/100\n",
            "2/2 [==============================] - 0s 82ms/step - loss: 0.2148 - mae: 0.3760 - val_loss: 0.0911 - val_mae: 0.1329\n",
            "Epoch 85/100\n",
            "2/2 [==============================] - 0s 83ms/step - loss: 0.2590 - mae: 0.3814 - val_loss: 0.0893 - val_mae: 0.1277\n",
            "Epoch 86/100\n",
            "2/2 [==============================] - 0s 96ms/step - loss: 0.2955 - mae: 0.4520 - val_loss: 0.0877 - val_mae: 0.1221\n",
            "Epoch 87/100\n",
            "2/2 [==============================] - 0s 83ms/step - loss: 0.2141 - mae: 0.3692 - val_loss: 0.0859 - val_mae: 0.1150\n",
            "Epoch 88/100\n",
            "2/2 [==============================] - 0s 88ms/step - loss: 0.2003 - mae: 0.3542 - val_loss: 0.0849 - val_mae: 0.1112\n",
            "Epoch 89/100\n",
            "2/2 [==============================] - 0s 90ms/step - loss: 0.2073 - mae: 0.3749 - val_loss: 0.0842 - val_mae: 0.1095\n",
            "Epoch 90/100\n",
            "2/2 [==============================] - 0s 82ms/step - loss: 0.2962 - mae: 0.4158 - val_loss: 0.0833 - val_mae: 0.1071\n",
            "Epoch 91/100\n",
            "2/2 [==============================] - 0s 100ms/step - loss: 0.3046 - mae: 0.4515 - val_loss: 0.0827 - val_mae: 0.1067\n",
            "Epoch 92/100\n",
            "2/2 [==============================] - 0s 81ms/step - loss: 0.1975 - mae: 0.3644 - val_loss: 0.0824 - val_mae: 0.1074\n",
            "Epoch 93/100\n",
            "2/2 [==============================] - 0s 91ms/step - loss: 0.1814 - mae: 0.3386 - val_loss: 0.0822 - val_mae: 0.1085\n",
            "Epoch 94/100\n",
            "2/2 [==============================] - 0s 82ms/step - loss: 0.2314 - mae: 0.3927 - val_loss: 0.0825 - val_mae: 0.1109\n",
            "Epoch 95/100\n",
            "2/2 [==============================] - 0s 115ms/step - loss: 0.3293 - mae: 0.4282 - val_loss: 0.0825 - val_mae: 0.1116\n",
            "Epoch 96/100\n",
            "2/2 [==============================] - 0s 135ms/step - loss: 0.2416 - mae: 0.4025 - val_loss: 0.0823 - val_mae: 0.1114\n",
            "Epoch 97/100\n",
            "2/2 [==============================] - 0s 109ms/step - loss: 0.3231 - mae: 0.4592 - val_loss: 0.0808 - val_mae: 0.1077\n",
            "Epoch 98/100\n",
            "2/2 [==============================] - 0s 111ms/step - loss: 0.2803 - mae: 0.4204 - val_loss: 0.0793 - val_mae: 0.1042\n",
            "Epoch 99/100\n",
            "2/2 [==============================] - 0s 117ms/step - loss: 0.3216 - mae: 0.4447 - val_loss: 0.0781 - val_mae: 0.1021\n",
            "Epoch 100/100\n",
            "2/2 [==============================] - 0s 102ms/step - loss: 0.2921 - mae: 0.4426 - val_loss: 0.0776 - val_mae: 0.1014\n"
          ]
        },
        {
          "output_type": "display_data",
          "data": {
            "text/plain": [
              "<Figure size 1000x400 with 1 Axes>"
            ],
            "image/png": "[encoded data removed]"
          },
          "metadata": {}
        }
      ]
    },
    {
      "cell_type": "code",
      "source": [
        "plt.plot(history.history['mae'], \n",
        "         label='Средняя абсолютная ошибка на обучающем наборе')\n",
        "plt.plot(history.history['val_mae'], \n",
        "         label='Средняя абсолютная ошибка на проверочном наборе')\n",
        "plt.xlabel('Эпоха обучения')\n",
        "plt.ylabel('Средняя абсолютная ошибка')\n",
        "plt.legend()\n",
        "plt.show()"
      ],
      "metadata": {
        "colab": {
          "base_uri": "https://localhost:8080/",
          "height": 449
        },
        "id": "tdlB1BHcyAPr",
        "outputId": "d5a1ef8e-554e-4bbf-99db-230b7e33377e"
      },
      "execution_count": 100,
      "outputs": [
        {
          "output_type": "display_data",
          "data": {
            "text/plain": [
              "<Figure size 640x480 with 1 Axes>"
            ],
            "image/png": "[encoded data removed]"
          },
          "metadata": {}
        }
      ]
    },
    {
      "cell_type": "code",
      "source": [
        "pred = model.predict([x_test, x_test_text1, x_test_text2]) \n",
        "plt.scatter(y_test, pred)\n",
        "plt.xlabel('Правильные значение')\n",
        "plt.ylabel('Предсказания')\n",
        "plt.axis('equal')\n",
        "plt.xlim(plt.xlim())\n",
        "plt.ylim(plt.ylim())\n",
        "plt.plot([-1000, 1000], [-1000, 1000])\n",
        "plt.show()"
      ],
      "metadata": {
        "colab": {
          "base_uri": "https://localhost:8080/",
          "height": 469
        },
        "id": "wwhj4-fZ8IX4",
        "outputId": "18232e00-f28f-4907-eac3-9d5ddecefc5e"
      },
      "execution_count": 101,
      "outputs": [
        {
          "output_type": "stream",
          "name": "stdout",
          "text": [
            "1/1 [==============================] - 0s 238ms/step\n"
          ]
        },
        {
          "output_type": "display_data",
          "data": {
            "text/plain": [
              "<Figure size 640x480 with 1 Axes>"
            ],
            "image/png": "[encoded data removed]"
          },
          "metadata": {}
        }
      ]
    },
    {
      "cell_type": "code",
      "source": [
        "#Среднеквадратичное отклонение\n",
        "m_l = []\n",
        "s = 0\n",
        "for i in range(0, len(y_test)):\n",
        "    if np.round(y_test[i]) == np.round(pred[i]):\n",
        "        s += 1\n",
        "    dif = (y_test[i] - pred[i])**2\n",
        "    print(y_test[i], pred[i], dif, np.round(y_test[i]), np.round(pred[i]))\n",
        "    m_l.append(dif)\n",
        "\n",
        "print('Среднеквадратичное отклонение', np.sqrt(np.mean(m_l)))\n",
        "print('Точность модели', s / len(y_test))\n"
      ],
      "metadata": {
        "id": "iGtpVO05DHz4",
        "colab": {
          "base_uri": "https://localhost:8080/"
        },
        "outputId": "06229ab0-d67c-48c8-f6e9-4df7a13d7656"
      },
      "execution_count": 114,
      "outputs": [
        {
          "output_type": "stream",
          "name": "stdout",
          "text": [
            "1.0 [1.0160362] [0.00025716] 1.0 [1.]\n",
            "1.0 [1.0246149] [0.00060589] 1.0 [1.]\n",
            "0.0 [1.020839] [1.0421122] 0.0 [1.]\n",
            "1.0 [0.9638401] [0.00130754] 1.0 [1.]\n",
            "1.0 [1.0138928] [0.00019301] 1.0 [1.]\n",
            "1.0 [1.001463] [2.1405317e-06] 1.0 [1.]\n",
            "1.0 [1.0050842] [2.5848653e-05] 1.0 [1.]\n",
            "1.0 [0.98699284] [0.00016919] 1.0 [1.]\n",
            "1.0 [0.9833507] [0.0002772] 1.0 [1.]\n",
            "1.0 [0.9880929] [0.00014178] 1.0 [1.]\n",
            "1.0 [0.96364284] [0.00132184] 1.0 [1.]\n",
            "1.0 [0.9995608] [1.9292003e-07] 1.0 [1.]\n",
            "1.0 [1.0420909] [0.00177164] 1.0 [1.]\n",
            "1.0 [1.0069263] [4.7973605e-05] 1.0 [1.]\n",
            "0.0 [0.9983471] [0.99669695] 0.0 [1.]\n",
            "1.0 [0.9729348] [0.00073253] 1.0 [1.]\n",
            "1.0 [0.9812758] [0.0003506] 1.0 [1.]\n",
            "1.0 [0.98692924] [0.00017084] 1.0 [1.]\n",
            "0.0 [0.95675516] [0.9153804] 0.0 [1.]\n",
            "1.0 [1.038338] [0.0014698] 1.0 [1.]\n",
            "Среднеквадратичное отклонение 0.38490483\n",
            "Точность модели 0.85\n"
          ]
        }
      ]
    }
  ]
}